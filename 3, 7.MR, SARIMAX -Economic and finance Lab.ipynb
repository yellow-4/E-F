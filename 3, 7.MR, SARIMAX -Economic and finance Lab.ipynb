{
 "cells": [
  {
   "cell_type": "markdown",
   "id": "f8915ba4",
   "metadata": {},
   "source": [
    "### MA (Moving average)"
   ]
  },
  {
   "cell_type": "code",
   "execution_count": 1,
   "id": "208f09c7",
   "metadata": {},
   "outputs": [],
   "source": [
    "import pandas as pd\n",
    "import numpy as np\n",
    "#\n",
    "# Create a numpy array of years and sales\n",
    "#\n",
    "mrs = pd.read_csv(r\"C:\\Users\\MMM\\Downloads\\e&f\\opsd_germany_daily.csv\")"
   ]
  },
  {
   "cell_type": "code",
   "execution_count": 2,
   "id": "f10e6e16",
   "metadata": {
    "scrolled": false
   },
   "outputs": [
    {
     "data": {
      "text/html": [
       "<div>\n",
       "<style scoped>\n",
       "    .dataframe tbody tr th:only-of-type {\n",
       "        vertical-align: middle;\n",
       "    }\n",
       "\n",
       "    .dataframe tbody tr th {\n",
       "        vertical-align: top;\n",
       "    }\n",
       "\n",
       "    .dataframe thead th {\n",
       "        text-align: right;\n",
       "    }\n",
       "</style>\n",
       "<table border=\"1\" class=\"dataframe\">\n",
       "  <thead>\n",
       "    <tr style=\"text-align: right;\">\n",
       "      <th></th>\n",
       "      <th>Date</th>\n",
       "      <th>Consumption</th>\n",
       "    </tr>\n",
       "  </thead>\n",
       "  <tbody>\n",
       "    <tr>\n",
       "      <th>0</th>\n",
       "      <td>01-01-2006</td>\n",
       "      <td>1069.184</td>\n",
       "    </tr>\n",
       "    <tr>\n",
       "      <th>1</th>\n",
       "      <td>02-01-2006</td>\n",
       "      <td>1380.521</td>\n",
       "    </tr>\n",
       "    <tr>\n",
       "      <th>2</th>\n",
       "      <td>03-01-2006</td>\n",
       "      <td>1442.533</td>\n",
       "    </tr>\n",
       "    <tr>\n",
       "      <th>3</th>\n",
       "      <td>04-01-2006</td>\n",
       "      <td>1457.217</td>\n",
       "    </tr>\n",
       "    <tr>\n",
       "      <th>4</th>\n",
       "      <td>05-01-2006</td>\n",
       "      <td>1477.131</td>\n",
       "    </tr>\n",
       "  </tbody>\n",
       "</table>\n",
       "</div>"
      ],
      "text/plain": [
       "         Date  Consumption\n",
       "0  01-01-2006     1069.184\n",
       "1  02-01-2006     1380.521\n",
       "2  03-01-2006     1442.533\n",
       "3  04-01-2006     1457.217\n",
       "4  05-01-2006     1477.131"
      ]
     },
     "execution_count": 2,
     "metadata": {},
     "output_type": "execute_result"
    }
   ],
   "source": [
    "mrs.head()"
   ]
  },
  {
   "cell_type": "code",
   "execution_count": 3,
   "id": "78a93b6c",
   "metadata": {},
   "outputs": [
    {
     "name": "stdout",
     "output_type": "stream",
     "text": [
      "<class 'pandas.core.frame.DataFrame'>\n",
      "RangeIndex: 4383 entries, 0 to 4382\n",
      "Data columns (total 2 columns):\n",
      " #   Column       Non-Null Count  Dtype  \n",
      "---  ------       --------------  -----  \n",
      " 0   Date         4383 non-null   object \n",
      " 1   Consumption  4383 non-null   float64\n",
      "dtypes: float64(1), object(1)\n",
      "memory usage: 68.6+ KB\n"
     ]
    }
   ],
   "source": [
    "mrs.info()"
   ]
  },
  {
   "cell_type": "code",
   "execution_count": 4,
   "id": "37fbbe16",
   "metadata": {},
   "outputs": [],
   "source": [
    "mrs['Date'] = pd.to_datetime(mrs['Date'], errors='coerce')"
   ]
  },
  {
   "cell_type": "code",
   "execution_count": 5,
   "id": "9176ab82",
   "metadata": {
    "scrolled": true
   },
   "outputs": [
    {
     "name": "stdout",
     "output_type": "stream",
     "text": [
      "<class 'pandas.core.frame.DataFrame'>\n",
      "RangeIndex: 4383 entries, 0 to 4382\n",
      "Data columns (total 2 columns):\n",
      " #   Column       Non-Null Count  Dtype         \n",
      "---  ------       --------------  -----         \n",
      " 0   Date         1728 non-null   datetime64[ns]\n",
      " 1   Consumption  4383 non-null   float64       \n",
      "dtypes: datetime64[ns](1), float64(1)\n",
      "memory usage: 68.6 KB\n"
     ]
    }
   ],
   "source": [
    "mrs.info()"
   ]
  },
  {
   "cell_type": "code",
   "execution_count": 6,
   "id": "a4158059",
   "metadata": {
    "scrolled": true
   },
   "outputs": [],
   "source": [
    "mrs['MA'] = mrs['Consumption'].rolling(window=3).mean()"
   ]
  },
  {
   "cell_type": "code",
   "execution_count": 7,
   "id": "17bbdce1",
   "metadata": {},
   "outputs": [
    {
     "data": {
      "text/html": [
       "<div>\n",
       "<style scoped>\n",
       "    .dataframe tbody tr th:only-of-type {\n",
       "        vertical-align: middle;\n",
       "    }\n",
       "\n",
       "    .dataframe tbody tr th {\n",
       "        vertical-align: top;\n",
       "    }\n",
       "\n",
       "    .dataframe thead th {\n",
       "        text-align: right;\n",
       "    }\n",
       "</style>\n",
       "<table border=\"1\" class=\"dataframe\">\n",
       "  <thead>\n",
       "    <tr style=\"text-align: right;\">\n",
       "      <th></th>\n",
       "      <th>Date</th>\n",
       "      <th>Consumption</th>\n",
       "      <th>MA</th>\n",
       "    </tr>\n",
       "  </thead>\n",
       "  <tbody>\n",
       "    <tr>\n",
       "      <th>0</th>\n",
       "      <td>2006-01-01</td>\n",
       "      <td>1069.184</td>\n",
       "      <td>NaN</td>\n",
       "    </tr>\n",
       "    <tr>\n",
       "      <th>1</th>\n",
       "      <td>2006-02-01</td>\n",
       "      <td>1380.521</td>\n",
       "      <td>NaN</td>\n",
       "    </tr>\n",
       "    <tr>\n",
       "      <th>2</th>\n",
       "      <td>2006-03-01</td>\n",
       "      <td>1442.533</td>\n",
       "      <td>1297.412667</td>\n",
       "    </tr>\n",
       "    <tr>\n",
       "      <th>3</th>\n",
       "      <td>2006-04-01</td>\n",
       "      <td>1457.217</td>\n",
       "      <td>1426.757000</td>\n",
       "    </tr>\n",
       "    <tr>\n",
       "      <th>4</th>\n",
       "      <td>2006-05-01</td>\n",
       "      <td>1477.131</td>\n",
       "      <td>1458.960333</td>\n",
       "    </tr>\n",
       "  </tbody>\n",
       "</table>\n",
       "</div>"
      ],
      "text/plain": [
       "        Date  Consumption           MA\n",
       "0 2006-01-01     1069.184          NaN\n",
       "1 2006-02-01     1380.521          NaN\n",
       "2 2006-03-01     1442.533  1297.412667\n",
       "3 2006-04-01     1457.217  1426.757000\n",
       "4 2006-05-01     1477.131  1458.960333"
      ]
     },
     "execution_count": 7,
     "metadata": {},
     "output_type": "execute_result"
    }
   ],
   "source": [
    "mrs.head()"
   ]
  },
  {
   "cell_type": "code",
   "execution_count": 8,
   "id": "21a7bed2",
   "metadata": {},
   "outputs": [],
   "source": [
    "mrs=mrs.dropna()"
   ]
  },
  {
   "cell_type": "code",
   "execution_count": 9,
   "id": "5e657204",
   "metadata": {},
   "outputs": [
    {
     "data": {
      "text/html": [
       "<div>\n",
       "<style scoped>\n",
       "    .dataframe tbody tr th:only-of-type {\n",
       "        vertical-align: middle;\n",
       "    }\n",
       "\n",
       "    .dataframe tbody tr th {\n",
       "        vertical-align: top;\n",
       "    }\n",
       "\n",
       "    .dataframe thead th {\n",
       "        text-align: right;\n",
       "    }\n",
       "</style>\n",
       "<table border=\"1\" class=\"dataframe\">\n",
       "  <thead>\n",
       "    <tr style=\"text-align: right;\">\n",
       "      <th></th>\n",
       "      <th>Date</th>\n",
       "      <th>Consumption</th>\n",
       "      <th>MA</th>\n",
       "    </tr>\n",
       "  </thead>\n",
       "  <tbody>\n",
       "    <tr>\n",
       "      <th>2</th>\n",
       "      <td>2006-03-01</td>\n",
       "      <td>1442.533</td>\n",
       "      <td>1297.412667</td>\n",
       "    </tr>\n",
       "    <tr>\n",
       "      <th>3</th>\n",
       "      <td>2006-04-01</td>\n",
       "      <td>1457.217</td>\n",
       "      <td>1426.757000</td>\n",
       "    </tr>\n",
       "    <tr>\n",
       "      <th>4</th>\n",
       "      <td>2006-05-01</td>\n",
       "      <td>1477.131</td>\n",
       "      <td>1458.960333</td>\n",
       "    </tr>\n",
       "    <tr>\n",
       "      <th>5</th>\n",
       "      <td>2006-06-01</td>\n",
       "      <td>1403.427</td>\n",
       "      <td>1445.925000</td>\n",
       "    </tr>\n",
       "    <tr>\n",
       "      <th>6</th>\n",
       "      <td>2006-07-01</td>\n",
       "      <td>1300.287</td>\n",
       "      <td>1393.615000</td>\n",
       "    </tr>\n",
       "  </tbody>\n",
       "</table>\n",
       "</div>"
      ],
      "text/plain": [
       "        Date  Consumption           MA\n",
       "2 2006-03-01     1442.533  1297.412667\n",
       "3 2006-04-01     1457.217  1426.757000\n",
       "4 2006-05-01     1477.131  1458.960333\n",
       "5 2006-06-01     1403.427  1445.925000\n",
       "6 2006-07-01     1300.287  1393.615000"
      ]
     },
     "execution_count": 9,
     "metadata": {},
     "output_type": "execute_result"
    }
   ],
   "source": [
    "mrs.head()"
   ]
  },
  {
   "cell_type": "code",
   "execution_count": 10,
   "id": "769b15ff",
   "metadata": {},
   "outputs": [
    {
     "name": "stdout",
     "output_type": "stream",
     "text": [
      "<class 'pandas.core.frame.DataFrame'>\n",
      "Index: 1726 entries, 2 to 4363\n",
      "Data columns (total 3 columns):\n",
      " #   Column       Non-Null Count  Dtype         \n",
      "---  ------       --------------  -----         \n",
      " 0   Date         1726 non-null   datetime64[ns]\n",
      " 1   Consumption  1726 non-null   float64       \n",
      " 2   MA           1726 non-null   float64       \n",
      "dtypes: datetime64[ns](1), float64(2)\n",
      "memory usage: 53.9 KB\n"
     ]
    }
   ],
   "source": [
    "mrs.info()"
   ]
  },
  {
   "cell_type": "code",
   "execution_count": 23,
   "id": "687bdb7d",
   "metadata": {
    "scrolled": true
   },
   "outputs": [
    {
     "data": {
      "text/plain": [
       "<Figure size 1728x864 with 0 Axes>"
      ]
     },
     "metadata": {},
     "output_type": "display_data"
    },
    {
     "data": {
      "image/png": "[encoded data removed]",
      "text/plain": [
       "<Figure size 432x288 with 1 Axes>"
      ]
     },
     "metadata": {
      "needs_background": "light"
     },
     "output_type": "display_data"
    }
   ],
   "source": [
    "import matplotlib.pyplot as plt\n",
    "import matplotlib.dates as mdates\n",
    "import numpy as np\n",
    "\n",
    "# Assuming 'Date' is already the index, if not, set it using mrs.set_index('Date', inplace=True)\n",
    "x = mrs.index\n",
    "y = mrs['Consumption']\n",
    "y1 = mrs['MA']\n",
    "\n",
    "plt.figure(figsize=(24,12))\n",
    "\n",
    "fig, ax = plt.subplots()\n",
    "\n",
    "ax.plot_date(mdates.date2num(x.to_pydatetime()), y.values, '-', color='Blue', label='Consumption')\n",
    "ax.plot_date(mdates.date2num(x.to_pydatetime()), y1.values, '-', color='Red', label='MA')\n",
    "\n",
    "ax.set_title('Moving Average')\n",
    "ax.set_ylabel('Value')\n",
    "ax.set_xlabel('Date')\n",
    "ax.legend()\n",
    "\n",
    "# Format the x-axis date labels\n",
    "ax.xaxis.set_major_locator(mdates.YearLocator())\n",
    "ax.xaxis.set_major_formatter(mdates.DateFormatter('%Y-%m-%d'))\n",
    "\n",
    "# Auto-format the date labels\n",
    "fig.autofmt_xdate()\n",
    "\n",
    "plt.show()"
   ]
  },
  {
   "cell_type": "markdown",
   "id": "3cb8fcc8",
   "metadata": {},
   "source": [
    "# ARIMA (Autoregressive integrated moving average)"
   ]
  },
  {
   "cell_type": "code",
   "execution_count": 24,
   "id": "965f4ff8",
   "metadata": {},
   "outputs": [],
   "source": [
    "# Ignore Warnings\n",
    "import warnings\n",
    "warnings.filterwarnings('ignore')"
   ]
  },
  {
   "cell_type": "code",
   "execution_count": 25,
   "id": "9eff4b7f",
   "metadata": {},
   "outputs": [
    {
     "name": "stdout",
     "output_type": "stream",
     "text": [
      "Requirement already satisfied: pyramid in c:\\users\\mmm\\anaconda3\\lib\\site-packages (2.0.2)\n",
      "Requirement already satisfied: hupper>=1.5 in c:\\users\\mmm\\anaconda3\\lib\\site-packages (from pyramid) (1.12)\n",
      "Requirement already satisfied: plaster in c:\\users\\mmm\\anaconda3\\lib\\site-packages (from pyramid) (1.1.2)\n",
      "Requirement already satisfied: plaster-pastedeploy in c:\\users\\mmm\\anaconda3\\lib\\site-packages (from pyramid) (1.0.1)\n",
      "Requirement already satisfied: setuptools in c:\\users\\mmm\\anaconda3\\lib\\site-packages (from pyramid) (61.2.0)\n",
      "Requirement already satisfied: translationstring>=0.4 in c:\\users\\mmm\\anaconda3\\lib\\site-packages (from pyramid) (1.4)\n",
      "Requirement already satisfied: venusian>=1.0 in c:\\users\\mmm\\anaconda3\\lib\\site-packages (from pyramid) (3.1.0)\n",
      "Requirement already satisfied: webob>=1.8.3 in c:\\users\\mmm\\anaconda3\\lib\\site-packages (from pyramid) (1.8.7)\n",
      "Requirement already satisfied: zope.deprecation>=3.5.0 in c:\\users\\mmm\\anaconda3\\lib\\site-packages (from pyramid) (5.0)\n",
      "Requirement already satisfied: zope.interface>=3.8.0 in c:\\users\\mmm\\anaconda3\\lib\\site-packages (from pyramid) (5.4.0)\n",
      "Requirement already satisfied: PasteDeploy>=2.0 in c:\\users\\mmm\\anaconda3\\lib\\site-packages (from plaster-pastedeploy->pyramid) (3.0.1)\n"
     ]
    }
   ],
   "source": [
    "!pip install pyramid"
   ]
  },
  {
   "cell_type": "code",
   "execution_count": 26,
   "id": "421b664d",
   "metadata": {},
   "outputs": [],
   "source": [
    "import pandas as pd\n",
    "import matplotlib.pyplot as plt\n",
    "\n",
    "#load the data\n",
    "airline = pd.read_csv(r\"C:\\Users\\MMM\\Downloads\\e&f\\international-airline-passengers.csv\",header = 0, names = ['Month', 'International airline passengers'])\n",
    "\n"
   ]
  },
  {
   "cell_type": "code",
   "execution_count": 27,
   "id": "a033e07f",
   "metadata": {},
   "outputs": [
    {
     "data": {
      "text/html": [
       "<div>\n",
       "<style scoped>\n",
       "    .dataframe tbody tr th:only-of-type {\n",
       "        vertical-align: middle;\n",
       "    }\n",
       "\n",
       "    .dataframe tbody tr th {\n",
       "        vertical-align: top;\n",
       "    }\n",
       "\n",
       "    .dataframe thead th {\n",
       "        text-align: right;\n",
       "    }\n",
       "</style>\n",
       "<table border=\"1\" class=\"dataframe\">\n",
       "  <thead>\n",
       "    <tr style=\"text-align: right;\">\n",
       "      <th></th>\n",
       "      <th>Month</th>\n",
       "      <th>International airline passengers</th>\n",
       "    </tr>\n",
       "  </thead>\n",
       "  <tbody>\n",
       "    <tr>\n",
       "      <th>0</th>\n",
       "      <td>1949-01</td>\n",
       "      <td>112.0</td>\n",
       "    </tr>\n",
       "    <tr>\n",
       "      <th>1</th>\n",
       "      <td>1949-02</td>\n",
       "      <td>118.0</td>\n",
       "    </tr>\n",
       "    <tr>\n",
       "      <th>2</th>\n",
       "      <td>1949-03</td>\n",
       "      <td>132.0</td>\n",
       "    </tr>\n",
       "    <tr>\n",
       "      <th>3</th>\n",
       "      <td>1949-04</td>\n",
       "      <td>129.0</td>\n",
       "    </tr>\n",
       "    <tr>\n",
       "      <th>4</th>\n",
       "      <td>1949-05</td>\n",
       "      <td>121.0</td>\n",
       "    </tr>\n",
       "  </tbody>\n",
       "</table>\n",
       "</div>"
      ],
      "text/plain": [
       "     Month  International airline passengers\n",
       "0  1949-01                             112.0\n",
       "1  1949-02                             118.0\n",
       "2  1949-03                             132.0\n",
       "3  1949-04                             129.0\n",
       "4  1949-05                             121.0"
      ]
     },
     "execution_count": 27,
     "metadata": {},
     "output_type": "execute_result"
    }
   ],
   "source": [
    "# Print the first five rows of the dataset \n",
    "airline.head() "
   ]
  },
  {
   "cell_type": "code",
   "execution_count": 28,
   "id": "3e40f9a6",
   "metadata": {},
   "outputs": [
    {
     "name": "stdout",
     "output_type": "stream",
     "text": [
      "Requirement already satisfied: statsmodels in c:\\users\\mmm\\anaconda3\\lib\\site-packages (0.14.0)\n",
      "Requirement already satisfied: numpy>=1.18 in c:\\users\\mmm\\anaconda3\\lib\\site-packages (from statsmodels) (1.22.4)\n",
      "Requirement already satisfied: scipy!=1.9.2,>=1.4 in c:\\users\\mmm\\anaconda3\\lib\\site-packages (from statsmodels) (1.11.3)\n",
      "Requirement already satisfied: pandas>=1.0 in c:\\users\\mmm\\anaconda3\\lib\\site-packages (from statsmodels) (2.0.3)\n",
      "Requirement already satisfied: patsy>=0.5.2 in c:\\users\\mmm\\anaconda3\\lib\\site-packages (from statsmodels) (0.5.2)\n",
      "Requirement already satisfied: packaging>=21.3 in c:\\users\\mmm\\anaconda3\\lib\\site-packages (from statsmodels) (21.3)\n",
      "Requirement already satisfied: pyparsing!=3.0.5,>=2.0.2 in c:\\users\\mmm\\anaconda3\\lib\\site-packages (from packaging>=21.3->statsmodels) (3.0.4)\n",
      "Requirement already satisfied: python-dateutil>=2.8.2 in c:\\users\\mmm\\anaconda3\\lib\\site-packages (from pandas>=1.0->statsmodels) (2.8.2)\n",
      "Requirement already satisfied: pytz>=2020.1 in c:\\users\\mmm\\anaconda3\\lib\\site-packages (from pandas>=1.0->statsmodels) (2021.3)\n",
      "Requirement already satisfied: tzdata>=2022.1 in c:\\users\\mmm\\anaconda3\\lib\\site-packages (from pandas>=1.0->statsmodels) (2023.3)\n",
      "Requirement already satisfied: six in c:\\users\\mmm\\anaconda3\\lib\\site-packages (from patsy>=0.5.2->statsmodels) (1.16.0)\n"
     ]
    }
   ],
   "source": [
    "!pip install statsmodels"
   ]
  },
  {
   "cell_type": "code",
   "execution_count": 29,
   "id": "f6107dc5",
   "metadata": {},
   "outputs": [],
   "source": [
    "from statsmodels.tsa.seasonal import seasonal_decompose"
   ]
  },
  {
   "cell_type": "code",
   "execution_count": 30,
   "id": "e3b89c9b",
   "metadata": {},
   "outputs": [
    {
     "data": {
      "text/plain": [
       "Month                               0\n",
       "International airline passengers    1\n",
       "dtype: int64"
      ]
     },
     "execution_count": 30,
     "metadata": {},
     "output_type": "execute_result"
    }
   ],
   "source": [
    "airline.isna().sum()"
   ]
  },
  {
   "cell_type": "code",
   "execution_count": 31,
   "id": "5029c410",
   "metadata": {},
   "outputs": [],
   "source": [
    "airline=airline.dropna()"
   ]
  },
  {
   "cell_type": "code",
   "execution_count": 32,
   "id": "515a8fbc",
   "metadata": {},
   "outputs": [],
   "source": [
    "airline['Month'] = pd.to_datetime(airline['Month'])\n",
    "airline.set_index('Month', inplace=True)"
   ]
  },
  {
   "cell_type": "code",
   "execution_count": 33,
   "id": "a31ddf8e",
   "metadata": {},
   "outputs": [],
   "source": [
    "result = seasonal_decompose(airline['International airline passengers'], model='additive', period=7)"
   ]
  },
  {
   "cell_type": "code",
   "execution_count": 34,
   "id": "5967411b",
   "metadata": {},
   "outputs": [
    {
     "name": "stdout",
     "output_type": "stream",
     "text": [
      "Requirement already satisfied: pmdarima in c:\\users\\mmm\\anaconda3\\lib\\site-packages (2.0.4)\n",
      "Requirement already satisfied: joblib>=0.11 in c:\\users\\mmm\\anaconda3\\lib\\site-packages (from pmdarima) (1.1.0)\n",
      "Requirement already satisfied: Cython!=0.29.18,!=0.29.31,>=0.29 in c:\\users\\mmm\\anaconda3\\lib\\site-packages (from pmdarima) (0.29.28)\n",
      "Requirement already satisfied: numpy>=1.21.2 in c:\\users\\mmm\\anaconda3\\lib\\site-packages (from pmdarima) (1.22.4)\n",
      "Requirement already satisfied: pandas>=0.19 in c:\\users\\mmm\\anaconda3\\lib\\site-packages (from pmdarima) (2.0.3)\n",
      "Requirement already satisfied: scikit-learn>=0.22 in c:\\users\\mmm\\anaconda3\\lib\\site-packages (from pmdarima) (1.0.2)\n",
      "Requirement already satisfied: scipy>=1.3.2 in c:\\users\\mmm\\anaconda3\\lib\\site-packages (from pmdarima) (1.11.3)\n",
      "Requirement already satisfied: statsmodels>=0.13.2 in c:\\users\\mmm\\anaconda3\\lib\\site-packages (from pmdarima) (0.14.0)\n",
      "Requirement already satisfied: urllib3 in c:\\users\\mmm\\anaconda3\\lib\\site-packages (from pmdarima) (1.26.9)\n",
      "Requirement already satisfied: setuptools!=50.0.0,>=38.6.0 in c:\\users\\mmm\\anaconda3\\lib\\site-packages (from pmdarima) (61.2.0)\n",
      "Requirement already satisfied: packaging>=17.1 in c:\\users\\mmm\\anaconda3\\lib\\site-packages (from pmdarima) (21.3)\n",
      "Requirement already satisfied: pyparsing!=3.0.5,>=2.0.2 in c:\\users\\mmm\\anaconda3\\lib\\site-packages (from packaging>=17.1->pmdarima) (3.0.4)\n",
      "Requirement already satisfied: python-dateutil>=2.8.2 in c:\\users\\mmm\\anaconda3\\lib\\site-packages (from pandas>=0.19->pmdarima) (2.8.2)\n",
      "Requirement already satisfied: pytz>=2020.1 in c:\\users\\mmm\\anaconda3\\lib\\site-packages (from pandas>=0.19->pmdarima) (2021.3)\n",
      "Requirement already satisfied: tzdata>=2022.1 in c:\\users\\mmm\\anaconda3\\lib\\site-packages (from pandas>=0.19->pmdarima) (2023.3)\n",
      "Requirement already satisfied: threadpoolctl>=2.0.0 in c:\\users\\mmm\\anaconda3\\lib\\site-packages (from scikit-learn>=0.22->pmdarima) (2.2.0)\n",
      "Requirement already satisfied: patsy>=0.5.2 in c:\\users\\mmm\\anaconda3\\lib\\site-packages (from statsmodels>=0.13.2->pmdarima) (0.5.2)\n",
      "Requirement already satisfied: six in c:\\users\\mmm\\anaconda3\\lib\\site-packages (from patsy>=0.5.2->statsmodels>=0.13.2->pmdarima) (1.16.0)\n"
     ]
    }
   ],
   "source": [
    "# To install the library \n",
    "!pip install pmdarima "
   ]
  },
  {
   "cell_type": "code",
   "execution_count": 35,
   "id": "407bbd35",
   "metadata": {},
   "outputs": [
    {
     "name": "stdout",
     "output_type": "stream",
     "text": [
      "Performing stepwise search to minimize aic\n",
      " ARIMA(1,1,1)(0,1,1)[12]             : AIC=1022.896, Time=0.18 sec\n",
      " ARIMA(0,1,0)(0,1,0)[12]             : AIC=1031.508, Time=0.03 sec\n",
      " ARIMA(1,1,0)(1,1,0)[12]             : AIC=1020.393, Time=0.13 sec\n",
      " ARIMA(0,1,1)(0,1,1)[12]             : AIC=1021.003, Time=0.15 sec\n",
      " ARIMA(1,1,0)(0,1,0)[12]             : AIC=1020.393, Time=0.05 sec\n",
      " ARIMA(1,1,0)(2,1,0)[12]             : AIC=1019.239, Time=0.46 sec\n",
      " ARIMA(1,1,0)(2,1,1)[12]             : AIC=inf, Time=1.46 sec\n",
      " ARIMA(1,1,0)(1,1,1)[12]             : AIC=1020.493, Time=0.20 sec\n",
      " ARIMA(0,1,0)(2,1,0)[12]             : AIC=1032.120, Time=0.18 sec\n",
      " ARIMA(2,1,0)(2,1,0)[12]             : AIC=1021.120, Time=0.29 sec\n",
      " ARIMA(1,1,1)(2,1,0)[12]             : AIC=1021.032, Time=0.35 sec\n",
      " ARIMA(0,1,1)(2,1,0)[12]             : AIC=1019.178, Time=0.30 sec\n",
      " ARIMA(0,1,1)(1,1,0)[12]             : AIC=1020.425, Time=0.10 sec\n",
      " ARIMA(0,1,1)(2,1,1)[12]             : AIC=inf, Time=2.25 sec\n",
      " ARIMA(0,1,1)(1,1,1)[12]             : AIC=1020.327, Time=0.27 sec\n",
      " ARIMA(0,1,2)(2,1,0)[12]             : AIC=1021.148, Time=0.34 sec\n",
      " ARIMA(1,1,2)(2,1,0)[12]             : AIC=1022.805, Time=0.51 sec\n",
      " ARIMA(0,1,1)(2,1,0)[12] intercept   : AIC=1021.017, Time=0.61 sec\n",
      "\n",
      "Best model:  ARIMA(0,1,1)(2,1,0)[12]          \n",
      "Total fit time: 7.876 seconds\n"
     ]
    },
    {
     "data": {
      "text/html": [
       "<table class=\"simpletable\">\n",
       "<caption>SARIMAX Results</caption>\n",
       "<tr>\n",
       "  <th>Dep. Variable:</th>                  <td>y</td>                <th>  No. Observations:  </th>    <td>144</td>  \n",
       "</tr>\n",
       "<tr>\n",
       "  <th>Model:</th>           <td>SARIMAX(0, 1, 1)x(2, 1, [], 12)</td> <th>  Log Likelihood     </th> <td>-505.589</td>\n",
       "</tr>\n",
       "<tr>\n",
       "  <th>Date:</th>                   <td>Fri, 17 Nov 2023</td>         <th>  AIC                </th> <td>1019.178</td>\n",
       "</tr>\n",
       "<tr>\n",
       "  <th>Time:</th>                       <td>22:12:00</td>             <th>  BIC                </th> <td>1030.679</td>\n",
       "</tr>\n",
       "<tr>\n",
       "  <th>Sample:</th>                    <td>01-01-1949</td>            <th>  HQIC               </th> <td>1023.851</td>\n",
       "</tr>\n",
       "<tr>\n",
       "  <th></th>                          <td>- 12-01-1960</td>           <th>                     </th>     <td> </td>   \n",
       "</tr>\n",
       "<tr>\n",
       "  <th>Covariance Type:</th>               <td>opg</td>               <th>                     </th>     <td> </td>   \n",
       "</tr>\n",
       "</table>\n",
       "<table class=\"simpletable\">\n",
       "<tr>\n",
       "      <td></td>        <th>coef</th>     <th>std err</th>      <th>z</th>      <th>P>|z|</th>  <th>[0.025</th>    <th>0.975]</th>  \n",
       "</tr>\n",
       "<tr>\n",
       "  <th>ma.L1</th>    <td>   -0.3634</td> <td>    0.074</td> <td>   -4.945</td> <td> 0.000</td> <td>   -0.508</td> <td>   -0.219</td>\n",
       "</tr>\n",
       "<tr>\n",
       "  <th>ar.S.L12</th> <td>   -0.1239</td> <td>    0.090</td> <td>   -1.372</td> <td> 0.170</td> <td>   -0.301</td> <td>    0.053</td>\n",
       "</tr>\n",
       "<tr>\n",
       "  <th>ar.S.L24</th> <td>    0.1911</td> <td>    0.107</td> <td>    1.783</td> <td> 0.075</td> <td>   -0.019</td> <td>    0.401</td>\n",
       "</tr>\n",
       "<tr>\n",
       "  <th>sigma2</th>   <td>  130.4480</td> <td>   15.527</td> <td>    8.402</td> <td> 0.000</td> <td>  100.016</td> <td>  160.880</td>\n",
       "</tr>\n",
       "</table>\n",
       "<table class=\"simpletable\">\n",
       "<tr>\n",
       "  <th>Ljung-Box (L1) (Q):</th>     <td>0.01</td> <th>  Jarque-Bera (JB):  </th> <td>4.59</td>\n",
       "</tr>\n",
       "<tr>\n",
       "  <th>Prob(Q):</th>                <td>0.92</td> <th>  Prob(JB):          </th> <td>0.10</td>\n",
       "</tr>\n",
       "<tr>\n",
       "  <th>Heteroskedasticity (H):</th> <td>2.70</td> <th>  Skew:              </th> <td>0.15</td>\n",
       "</tr>\n",
       "<tr>\n",
       "  <th>Prob(H) (two-sided):</th>    <td>0.00</td> <th>  Kurtosis:          </th> <td>3.87</td>\n",
       "</tr>\n",
       "</table><br/><br/>Warnings:<br/>[1] Covariance matrix calculated using the outer product of gradients (complex-step)."
      ],
      "text/latex": [
       "\\begin{center}\n",
       "\\begin{tabular}{lclc}\n",
       "\\toprule\n",
       "\\textbf{Dep. Variable:}          &                y                & \\textbf{  No. Observations:  } &    144      \\\\\n",
       "\\textbf{Model:}                  & SARIMAX(0, 1, 1)x(2, 1, [], 12) & \\textbf{  Log Likelihood     } &  -505.589   \\\\\n",
       "\\textbf{Date:}                   &         Fri, 17 Nov 2023        & \\textbf{  AIC                } &  1019.178   \\\\\n",
       "\\textbf{Time:}                   &             22:12:00            & \\textbf{  BIC                } &  1030.679   \\\\\n",
       "\\textbf{Sample:}                 &            01-01-1949           & \\textbf{  HQIC               } &  1023.851   \\\\\n",
       "\\textbf{}                        &           - 12-01-1960          & \\textbf{                     } &             \\\\\n",
       "\\textbf{Covariance Type:}        &               opg               & \\textbf{                     } &             \\\\\n",
       "\\bottomrule\n",
       "\\end{tabular}\n",
       "\\begin{tabular}{lcccccc}\n",
       "                  & \\textbf{coef} & \\textbf{std err} & \\textbf{z} & \\textbf{P$> |$z$|$} & \\textbf{[0.025} & \\textbf{0.975]}  \\\\\n",
       "\\midrule\n",
       "\\textbf{ma.L1}    &      -0.3634  &        0.074     &    -4.945  &         0.000        &       -0.508    &       -0.219     \\\\\n",
       "\\textbf{ar.S.L12} &      -0.1239  &        0.090     &    -1.372  &         0.170        &       -0.301    &        0.053     \\\\\n",
       "\\textbf{ar.S.L24} &       0.1911  &        0.107     &     1.783  &         0.075        &       -0.019    &        0.401     \\\\\n",
       "\\textbf{sigma2}   &     130.4480  &       15.527     &     8.402  &         0.000        &      100.016    &      160.880     \\\\\n",
       "\\bottomrule\n",
       "\\end{tabular}\n",
       "\\begin{tabular}{lclc}\n",
       "\\textbf{Ljung-Box (L1) (Q):}     & 0.01 & \\textbf{  Jarque-Bera (JB):  } & 4.59  \\\\\n",
       "\\textbf{Prob(Q):}                & 0.92 & \\textbf{  Prob(JB):          } & 0.10  \\\\\n",
       "\\textbf{Heteroskedasticity (H):} & 2.70 & \\textbf{  Skew:              } & 0.15  \\\\\n",
       "\\textbf{Prob(H) (two-sided):}    & 0.00 & \\textbf{  Kurtosis:          } & 3.87  \\\\\n",
       "\\bottomrule\n",
       "\\end{tabular}\n",
       "%\\caption{SARIMAX Results}\n",
       "\\end{center}\n",
       "\n",
       "Warnings: \\newline\n",
       " [1] Covariance matrix calculated using the outer product of gradients (complex-step)."
      ],
      "text/plain": [
       "<class 'statsmodels.iolib.summary.Summary'>\n",
       "\"\"\"\n",
       "                                      SARIMAX Results                                      \n",
       "===========================================================================================\n",
       "Dep. Variable:                                   y   No. Observations:                  144\n",
       "Model:             SARIMAX(0, 1, 1)x(2, 1, [], 12)   Log Likelihood                -505.589\n",
       "Date:                             Fri, 17 Nov 2023   AIC                           1019.178\n",
       "Time:                                     22:12:00   BIC                           1030.679\n",
       "Sample:                                 01-01-1949   HQIC                          1023.851\n",
       "                                      - 12-01-1960                                         \n",
       "Covariance Type:                               opg                                         \n",
       "==============================================================================\n",
       "                 coef    std err          z      P>|z|      [0.025      0.975]\n",
       "------------------------------------------------------------------------------\n",
       "ma.L1         -0.3634      0.074     -4.945      0.000      -0.508      -0.219\n",
       "ar.S.L12      -0.1239      0.090     -1.372      0.170      -0.301       0.053\n",
       "ar.S.L24       0.1911      0.107      1.783      0.075      -0.019       0.401\n",
       "sigma2       130.4480     15.527      8.402      0.000     100.016     160.880\n",
       "===================================================================================\n",
       "Ljung-Box (L1) (Q):                   0.01   Jarque-Bera (JB):                 4.59\n",
       "Prob(Q):                              0.92   Prob(JB):                         0.10\n",
       "Heteroskedasticity (H):               2.70   Skew:                             0.15\n",
       "Prob(H) (two-sided):                  0.00   Kurtosis:                         3.87\n",
       "===================================================================================\n",
       "\n",
       "Warnings:\n",
       "[1] Covariance matrix calculated using the outer product of gradients (complex-step).\n",
       "\"\"\""
      ]
     },
     "execution_count": 35,
     "metadata": {},
     "output_type": "execute_result"
    }
   ],
   "source": [
    "\n",
    "from pmdarima import auto_arima \n",
    "\n",
    "import warnings \n",
    "warnings.filterwarnings(\"ignore\") \n",
    "\n",
    "\n",
    "stepwise_fit = auto_arima(airline['International airline passengers'], start_p = 1, start_q = 1, \n",
    "                          max_p = 3, max_q = 3, m = 12, \n",
    "                          start_P = 0, seasonal = True, \n",
    "                          d = None, D = 1, trace = True, \n",
    "                          error_action ='ignore',  \n",
    "                          suppress_warnings = True,  \n",
    "                          stepwise = True) \n",
    "\n",
    "# To print the summary \n",
    "stepwise_fit.summary()"
   ]
  },
  {
   "cell_type": "code",
   "execution_count": 36,
   "id": "34cf6981",
   "metadata": {},
   "outputs": [
    {
     "data": {
      "text/html": [
       "<table class=\"simpletable\">\n",
       "<caption>SARIMAX Results</caption>\n",
       "<tr>\n",
       "  <th>Dep. Variable:</th>   <td>International airline passengers</td> <th>  No. Observations:  </th>    <td>132</td>  \n",
       "</tr>\n",
       "<tr>\n",
       "  <th>Model:</th>            <td>SARIMAX(0, 1, 1)x(2, 1, 1, 12)</td>  <th>  Log Likelihood     </th> <td>-443.014</td>\n",
       "</tr>\n",
       "<tr>\n",
       "  <th>Date:</th>                    <td>Fri, 17 Nov 2023</td>         <th>  AIC                </th>  <td>896.027</td>\n",
       "</tr>\n",
       "<tr>\n",
       "  <th>Time:</th>                        <td>22:12:02</td>             <th>  BIC                </th>  <td>909.923</td>\n",
       "</tr>\n",
       "<tr>\n",
       "  <th>Sample:</th>                     <td>01-01-1949</td>            <th>  HQIC               </th>  <td>901.670</td>\n",
       "</tr>\n",
       "<tr>\n",
       "  <th></th>                           <td>- 12-01-1959</td>           <th>                     </th>     <td> </td>   \n",
       "</tr>\n",
       "<tr>\n",
       "  <th>Covariance Type:</th>                <td>opg</td>               <th>                     </th>     <td> </td>   \n",
       "</tr>\n",
       "</table>\n",
       "<table class=\"simpletable\">\n",
       "<tr>\n",
       "      <td></td>        <th>coef</th>     <th>std err</th>      <th>z</th>      <th>P>|z|</th>  <th>[0.025</th>    <th>0.975]</th>  \n",
       "</tr>\n",
       "<tr>\n",
       "  <th>ma.L1</th>    <td>   -0.2977</td> <td>    0.076</td> <td>   -3.924</td> <td> 0.000</td> <td>   -0.446</td> <td>   -0.149</td>\n",
       "</tr>\n",
       "<tr>\n",
       "  <th>ar.S.L12</th> <td>    0.7104</td> <td>    0.239</td> <td>    2.969</td> <td> 0.003</td> <td>    0.241</td> <td>    1.179</td>\n",
       "</tr>\n",
       "<tr>\n",
       "  <th>ar.S.L24</th> <td>    0.2887</td> <td>    0.101</td> <td>    2.867</td> <td> 0.004</td> <td>    0.091</td> <td>    0.486</td>\n",
       "</tr>\n",
       "<tr>\n",
       "  <th>ma.S.L12</th> <td>   -0.9801</td> <td>    2.250</td> <td>   -0.436</td> <td> 0.663</td> <td>   -5.391</td> <td>    3.430</td>\n",
       "</tr>\n",
       "<tr>\n",
       "  <th>sigma2</th>   <td>   88.3257</td> <td>  178.625</td> <td>    0.494</td> <td> 0.621</td> <td> -261.773</td> <td>  438.424</td>\n",
       "</tr>\n",
       "</table>\n",
       "<table class=\"simpletable\">\n",
       "<tr>\n",
       "  <th>Ljung-Box (L1) (Q):</th>     <td>0.04</td> <th>  Jarque-Bera (JB):  </th> <td>0.00</td> \n",
       "</tr>\n",
       "<tr>\n",
       "  <th>Prob(Q):</th>                <td>0.85</td> <th>  Prob(JB):          </th> <td>1.00</td> \n",
       "</tr>\n",
       "<tr>\n",
       "  <th>Heteroskedasticity (H):</th> <td>1.62</td> <th>  Skew:              </th> <td>-0.00</td>\n",
       "</tr>\n",
       "<tr>\n",
       "  <th>Prob(H) (two-sided):</th>    <td>0.13</td> <th>  Kurtosis:          </th> <td>2.99</td> \n",
       "</tr>\n",
       "</table><br/><br/>Warnings:<br/>[1] Covariance matrix calculated using the outer product of gradients (complex-step)."
      ],
      "text/latex": [
       "\\begin{center}\n",
       "\\begin{tabular}{lclc}\n",
       "\\toprule\n",
       "\\textbf{Dep. Variable:}          & International airline passengers & \\textbf{  No. Observations:  } &    132      \\\\\n",
       "\\textbf{Model:}                  &  SARIMAX(0, 1, 1)x(2, 1, 1, 12)  & \\textbf{  Log Likelihood     } &  -443.014   \\\\\n",
       "\\textbf{Date:}                   &         Fri, 17 Nov 2023         & \\textbf{  AIC                } &  896.027    \\\\\n",
       "\\textbf{Time:}                   &             22:12:02             & \\textbf{  BIC                } &  909.923    \\\\\n",
       "\\textbf{Sample:}                 &            01-01-1949            & \\textbf{  HQIC               } &  901.670    \\\\\n",
       "\\textbf{}                        &           - 12-01-1959           & \\textbf{                     } &             \\\\\n",
       "\\textbf{Covariance Type:}        &               opg                & \\textbf{                     } &             \\\\\n",
       "\\bottomrule\n",
       "\\end{tabular}\n",
       "\\begin{tabular}{lcccccc}\n",
       "                  & \\textbf{coef} & \\textbf{std err} & \\textbf{z} & \\textbf{P$> |$z$|$} & \\textbf{[0.025} & \\textbf{0.975]}  \\\\\n",
       "\\midrule\n",
       "\\textbf{ma.L1}    &      -0.2977  &        0.076     &    -3.924  &         0.000        &       -0.446    &       -0.149     \\\\\n",
       "\\textbf{ar.S.L12} &       0.7104  &        0.239     &     2.969  &         0.003        &        0.241    &        1.179     \\\\\n",
       "\\textbf{ar.S.L24} &       0.2887  &        0.101     &     2.867  &         0.004        &        0.091    &        0.486     \\\\\n",
       "\\textbf{ma.S.L12} &      -0.9801  &        2.250     &    -0.436  &         0.663        &       -5.391    &        3.430     \\\\\n",
       "\\textbf{sigma2}   &      88.3257  &      178.625     &     0.494  &         0.621        &     -261.773    &      438.424     \\\\\n",
       "\\bottomrule\n",
       "\\end{tabular}\n",
       "\\begin{tabular}{lclc}\n",
       "\\textbf{Ljung-Box (L1) (Q):}     & 0.04 & \\textbf{  Jarque-Bera (JB):  } &  0.00  \\\\\n",
       "\\textbf{Prob(Q):}                & 0.85 & \\textbf{  Prob(JB):          } &  1.00  \\\\\n",
       "\\textbf{Heteroskedasticity (H):} & 1.62 & \\textbf{  Skew:              } & -0.00  \\\\\n",
       "\\textbf{Prob(H) (two-sided):}    & 0.13 & \\textbf{  Kurtosis:          } &  2.99  \\\\\n",
       "\\bottomrule\n",
       "\\end{tabular}\n",
       "%\\caption{SARIMAX Results}\n",
       "\\end{center}\n",
       "\n",
       "Warnings: \\newline\n",
       " [1] Covariance matrix calculated using the outer product of gradients (complex-step)."
      ],
      "text/plain": [
       "<class 'statsmodels.iolib.summary.Summary'>\n",
       "\"\"\"\n",
       "                                      SARIMAX Results                                       \n",
       "============================================================================================\n",
       "Dep. Variable:     International airline passengers   No. Observations:                  132\n",
       "Model:               SARIMAX(0, 1, 1)x(2, 1, 1, 12)   Log Likelihood                -443.014\n",
       "Date:                              Fri, 17 Nov 2023   AIC                            896.027\n",
       "Time:                                      22:12:02   BIC                            909.923\n",
       "Sample:                                  01-01-1949   HQIC                           901.670\n",
       "                                       - 12-01-1959                                         \n",
       "Covariance Type:                                opg                                         \n",
       "==============================================================================\n",
       "                 coef    std err          z      P>|z|      [0.025      0.975]\n",
       "------------------------------------------------------------------------------\n",
       "ma.L1         -0.2977      0.076     -3.924      0.000      -0.446      -0.149\n",
       "ar.S.L12       0.7104      0.239      2.969      0.003       0.241       1.179\n",
       "ar.S.L24       0.2887      0.101      2.867      0.004       0.091       0.486\n",
       "ma.S.L12      -0.9801      2.250     -0.436      0.663      -5.391       3.430\n",
       "sigma2        88.3257    178.625      0.494      0.621    -261.773     438.424\n",
       "===================================================================================\n",
       "Ljung-Box (L1) (Q):                   0.04   Jarque-Bera (JB):                 0.00\n",
       "Prob(Q):                              0.85   Prob(JB):                         1.00\n",
       "Heteroskedasticity (H):               1.62   Skew:                            -0.00\n",
       "Prob(H) (two-sided):                  0.13   Kurtosis:                         2.99\n",
       "===================================================================================\n",
       "\n",
       "Warnings:\n",
       "[1] Covariance matrix calculated using the outer product of gradients (complex-step).\n",
       "\"\"\""
      ]
     },
     "execution_count": 36,
     "metadata": {},
     "output_type": "execute_result"
    }
   ],
   "source": [
    "\n",
    "train = airline.iloc[:len(airline)-12] \n",
    "test = airline.iloc[len(airline)-12:]\n",
    "\n",
    "\n",
    "from statsmodels.tsa.statespace.sarimax import SARIMAX \n",
    "\n",
    "model = SARIMAX(train['International airline passengers'], \n",
    "                order = (0, 1, 1), \n",
    "                seasonal_order =(2, 1, 1, 12)) \n",
    "\n",
    "result = model.fit() \n",
    "result.summary() "
   ]
  },
  {
   "cell_type": "code",
   "execution_count": 37,
   "id": "cf10c062",
   "metadata": {},
   "outputs": [
    {
     "data": {
      "text/plain": [
       "<AxesSubplot:xlabel='Month'>"
      ]
     },
     "execution_count": 37,
     "metadata": {},
     "output_type": "execute_result"
    },
    {
     "data": {
      "image/png": "[encoded data removed]",
      "text/plain": [
       "<Figure size 432x288 with 1 Axes>"
      ]
     },
     "metadata": {
      "needs_background": "light"
     },
     "output_type": "display_data"
    }
   ],
   "source": [
    "start = len(train) \n",
    "end = len(train) + len(test) - 1\n",
    "\n",
    "# Predictions for one-year against the test set \n",
    "predictions = result.predict(start, end, \n",
    "                             typ = 'levels').rename(\"Predictions\") \n",
    "\n",
    "# plot predictions and actual values \n",
    "predictions.plot(legend = True) \n",
    "test['International airline passengers'].plot(legend = True) \n"
   ]
  },
  {
   "cell_type": "code",
   "execution_count": 38,
   "id": "075e6edd",
   "metadata": {},
   "outputs": [
    {
     "data": {
      "text/plain": [
       "<AxesSubplot:xlabel='Month'>"
      ]
     },
     "execution_count": 38,
     "metadata": {},
     "output_type": "execute_result"
    },
    {
     "data": {
      "image/png": "[encoded data removed]",
      "text/plain": [
       "<Figure size 864x360 with 1 Axes>"
      ]
     },
     "metadata": {
      "needs_background": "light"
     },
     "output_type": "display_data"
    }
   ],
   "source": [
    "# Train the model on the full dataset \n",
    "model = model = SARIMAX(airline['International airline passengers'], \n",
    "                        order = (0, 1, 1), \n",
    "                        seasonal_order =(2, 1, 1, 12)) \n",
    "result = model.fit() \n",
    "\n",
    "# Forecast for the next 3 years \n",
    "forecast = result.predict(start = len(airline), \n",
    "                        end = (len(airline)-1) + 3 * 12, \n",
    "                        typ = 'levels').rename('Forecast') \n",
    "\n",
    "# Plot the forecast values \n",
    "airline['International airline passengers'].plot(figsize = (12, 5), legend = True) \n",
    "forecast.plot(legend = True) \n"
   ]
  },
  {
   "cell_type": "code",
   "execution_count": null,
   "id": "2a02c469",
   "metadata": {},
   "outputs": [],
   "source": []
  },
  {
   "cell_type": "code",
   "execution_count": null,
   "id": "c4b717ad",
   "metadata": {},
   "outputs": [],
   "source": []
  }
 ],
 "metadata": {
  "kernelspec": {
   "display_name": "Python 3 (ipykernel)",
   "language": "python",
   "name": "python3"
  },
  "language_info": {
   "codemirror_mode": {
    "name": "ipython",
    "version": 3
   },
   "file_extension": ".py",
   "mimetype": "text/x-python",
   "name": "python",
   "nbconvert_exporter": "python",
   "pygments_lexer": "ipython3",
   "version": "3.9.12"
  }
 },
 "nbformat": 4,
 "nbformat_minor": 5
}
