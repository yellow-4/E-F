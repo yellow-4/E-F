{
 "cells": [
  {
   "cell_type": "code",
   "execution_count": 1,
   "id": "4bac2069",
   "metadata": {
    "scrolled": true
   },
   "outputs": [],
   "source": [
    "import pandas as pd\n",
    "import numpy as np\n",
    "from statsmodels.tsa.ar_model import AutoReg\n",
    "import matplotlib.pyplot as plt"
   ]
  },
  {
   "cell_type": "code",
   "execution_count": 2,
   "id": "0e07368d",
   "metadata": {},
   "outputs": [],
   "source": [
    "#kaggle link:  https://www.kaggle.com/code/prakharprasad/time-series-varma/input?select=M2SLMoneyStock.csv\n",
    "\n",
    "# import data\n",
    "df1= pd.read_csv(r\"C:\\Users\\MMM\\Downloads\\Eco and finance\\M2SLMoneyStock.csv\")\n",
    "df2= pd.read_csv(r\"C:\\Users\\MMM\\Downloads\\Eco and finance\\PCEPersonalSpending.csv\")"
   ]
  },
  {
   "cell_type": "code",
   "execution_count": null,
   "id": "eedd628a",
   "metadata": {},
   "outputs": [],
   "source": []
  },
  {
   "cell_type": "code",
   "execution_count": 3,
   "id": "e9fc2dbe",
   "metadata": {
    "scrolled": true
   },
   "outputs": [
    {
     "data": {
      "text/html": [
       "<div>\n",
       "<style scoped>\n",
       "    .dataframe tbody tr th:only-of-type {\n",
       "        vertical-align: middle;\n",
       "    }\n",
       "\n",
       "    .dataframe tbody tr th {\n",
       "        vertical-align: top;\n",
       "    }\n",
       "\n",
       "    .dataframe thead th {\n",
       "        text-align: right;\n",
       "    }\n",
       "</style>\n",
       "<table border=\"1\" class=\"dataframe\">\n",
       "  <thead>\n",
       "    <tr style=\"text-align: right;\">\n",
       "      <th></th>\n",
       "      <th>Money</th>\n",
       "      <th>Spending</th>\n",
       "    </tr>\n",
       "    <tr>\n",
       "      <th>Date</th>\n",
       "      <th></th>\n",
       "      <th></th>\n",
       "    </tr>\n",
       "  </thead>\n",
       "  <tbody>\n",
       "    <tr>\n",
       "      <th>1/1/1995</th>\n",
       "      <td>3492.4</td>\n",
       "      <td>4851.2</td>\n",
       "    </tr>\n",
       "    <tr>\n",
       "      <th>2/1/1995</th>\n",
       "      <td>3489.9</td>\n",
       "      <td>4850.8</td>\n",
       "    </tr>\n",
       "    <tr>\n",
       "      <th>3/1/1995</th>\n",
       "      <td>3491.1</td>\n",
       "      <td>4885.4</td>\n",
       "    </tr>\n",
       "    <tr>\n",
       "      <th>4/1/1995</th>\n",
       "      <td>3499.2</td>\n",
       "      <td>4890.2</td>\n",
       "    </tr>\n",
       "    <tr>\n",
       "      <th>5/1/1995</th>\n",
       "      <td>3524.2</td>\n",
       "      <td>4933.1</td>\n",
       "    </tr>\n",
       "    <tr>\n",
       "      <th>...</th>\n",
       "      <td>...</td>\n",
       "      <td>...</td>\n",
       "    </tr>\n",
       "    <tr>\n",
       "      <th>8/1/2015</th>\n",
       "      <td>12096.8</td>\n",
       "      <td>12394.0</td>\n",
       "    </tr>\n",
       "    <tr>\n",
       "      <th>9/1/2015</th>\n",
       "      <td>12153.8</td>\n",
       "      <td>12392.8</td>\n",
       "    </tr>\n",
       "    <tr>\n",
       "      <th>10/1/2015</th>\n",
       "      <td>12187.7</td>\n",
       "      <td>12416.1</td>\n",
       "    </tr>\n",
       "    <tr>\n",
       "      <th>11/1/2015</th>\n",
       "      <td>12277.4</td>\n",
       "      <td>12450.1</td>\n",
       "    </tr>\n",
       "    <tr>\n",
       "      <th>12/1/2015</th>\n",
       "      <td>12335.9</td>\n",
       "      <td>12469.1</td>\n",
       "    </tr>\n",
       "  </tbody>\n",
       "</table>\n",
       "<p>252 rows × 2 columns</p>\n",
       "</div>"
      ],
      "text/plain": [
       "             Money  Spending\n",
       "Date                        \n",
       "1/1/1995    3492.4    4851.2\n",
       "2/1/1995    3489.9    4850.8\n",
       "3/1/1995    3491.1    4885.4\n",
       "4/1/1995    3499.2    4890.2\n",
       "5/1/1995    3524.2    4933.1\n",
       "...            ...       ...\n",
       "8/1/2015   12096.8   12394.0\n",
       "9/1/2015   12153.8   12392.8\n",
       "10/1/2015  12187.7   12416.1\n",
       "11/1/2015  12277.4   12450.1\n",
       "12/1/2015  12335.9   12469.1\n",
       "\n",
       "[252 rows x 2 columns]"
      ]
     },
     "execution_count": 3,
     "metadata": {},
     "output_type": "execute_result"
    }
   ],
   "source": [
    "new_df = pd.concat([df1,df2['Spending']],axis=1 , join='inner')\n",
    "new_df.set_index('Date')"
   ]
  },
  {
   "cell_type": "code",
   "execution_count": 4,
   "id": "51136938",
   "metadata": {},
   "outputs": [
    {
     "data": {
      "text/plain": [
       "<AxesSubplot:>"
      ]
     },
     "execution_count": 4,
     "metadata": {},
     "output_type": "execute_result"
    },
    {
     "data": {
      "image/png": "[encoded data removed]",
      "text/plain": [
       "<Figure size 432x288 with 1 Axes>"
      ]
     },
     "metadata": {
      "needs_background": "light"
     },
     "output_type": "display_data"
    }
   ],
   "source": [
    "# plot the time series data\n",
    "new_df.plot()"
   ]
  },
  {
   "cell_type": "markdown",
   "id": "2e4fbe7e",
   "metadata": {},
   "source": [
    "####    #stationary checking"
   ]
  },
  {
   "cell_type": "code",
   "execution_count": 5,
   "id": "ce771089",
   "metadata": {},
   "outputs": [],
   "source": [
    "from statsmodels.tsa.stattools import adfuller"
   ]
  },
  {
   "cell_type": "code",
   "execution_count": 6,
   "id": "330df6fb",
   "metadata": {},
   "outputs": [],
   "source": [
    "test_result = adfuller(new_df['Money'])\n",
    "test_result1 = adfuller(new_df['Spending'])"
   ]
  },
  {
   "cell_type": "code",
   "execution_count": 7,
   "id": "82f1f7e8",
   "metadata": {},
   "outputs": [],
   "source": [
    "def adf_test(series,title = ''):\n",
    "    print(f'Augumented Dicker - Fuller Test : {title}')\n",
    "    result = adfuller(series.dropna(),autolag='AIC')\n",
    "    labels = ['ADF test statistic', 'p-value','#lags used','#observation']\n",
    "    out = pd.Series(result[0:4],index = labels)\n",
    "    for key,val in result[4].items():\n",
    "        out[f'critical value({key})']=val\n",
    "    print(out.to_string())\n",
    "    if result[1] <=0.05:\n",
    "        print(\"Strong evidence against the null hypothesis\")\n",
    "        print(\"Reject the null hypothesis\")\n",
    "        print(\"Data has no unit root and is stationary\")\n",
    "    else:\n",
    "        print(\"Weak evidence against the null hypothesis\")\n",
    "        print(\"Fail to reject the null hypothesis\")\n",
    "        print(\"Data has a unit root and is non-stationary\")"
   ]
  },
  {
   "cell_type": "code",
   "execution_count": 8,
   "id": "b07b92ce",
   "metadata": {},
   "outputs": [
    {
     "name": "stdout",
     "output_type": "stream",
     "text": [
      "Augumented Dicker - Fuller Test : \n",
      "ADF test statistic       4.239022\n",
      "p-value                  1.000000\n",
      "#lags used               4.000000\n",
      "#observation           247.000000\n",
      "critical value(1%)      -3.457105\n",
      "critical value(5%)      -2.873314\n",
      "critical value(10%)     -2.573044\n",
      "Weak evidence against the null hypothesis\n",
      "Fail to reject the null hypothesis\n",
      "Data has a unit root and is non-stationary\n"
     ]
    }
   ],
   "source": [
    "adf_test(new_df['Money'])"
   ]
  },
  {
   "cell_type": "code",
   "execution_count": 9,
   "id": "e7d02c1e",
   "metadata": {},
   "outputs": [
    {
     "name": "stdout",
     "output_type": "stream",
     "text": [
      "Augumented Dicker - Fuller Test : \n",
      "ADF test statistic       0.149796\n",
      "p-value                  0.969301\n",
      "#lags used               3.000000\n",
      "#observation           248.000000\n",
      "critical value(1%)      -3.456996\n",
      "critical value(5%)      -2.873266\n",
      "critical value(10%)     -2.573019\n",
      "Weak evidence against the null hypothesis\n",
      "Fail to reject the null hypothesis\n",
      "Data has a unit root and is non-stationary\n"
     ]
    }
   ],
   "source": [
    "adf_test(new_df['Spending'])"
   ]
  },
  {
   "cell_type": "code",
   "execution_count": 10,
   "id": "fc256abb",
   "metadata": {},
   "outputs": [
    {
     "name": "stdout",
     "output_type": "stream",
     "text": [
      "Augumented Dicker - Fuller Test : \n",
      "ADF test statistic    -6.694135e+00\n",
      "p-value                4.039577e-09\n",
      "#lags used             3.000000e+00\n",
      "#observation           2.470000e+02\n",
      "critical value(1%)    -3.457105e+00\n",
      "critical value(5%)    -2.873314e+00\n",
      "critical value(10%)   -2.573044e+00\n",
      "Strong evidence against the null hypothesis\n",
      "Reject the null hypothesis\n",
      "Data has no unit root and is stationary\n"
     ]
    }
   ],
   "source": [
    "#money\n",
    "new_diff = np.sqrt(new_df['Money'])\n",
    "df_diff = new_diff.diff().dropna()\n",
    "adf_test(df_diff)"
   ]
  },
  {
   "cell_type": "code",
   "execution_count": 11,
   "id": "6c499f72",
   "metadata": {},
   "outputs": [
    {
     "name": "stdout",
     "output_type": "stream",
     "text": [
      "Augumented Dicker - Fuller Test : \n",
      "ADF test statistic    -7.282439e+00\n",
      "p-value                1.488269e-10\n",
      "#lags used             2.000000e+00\n",
      "#observation           2.480000e+02\n",
      "critical value(1%)    -3.456996e+00\n",
      "critical value(5%)    -2.873266e+00\n",
      "critical value(10%)   -2.573019e+00\n",
      "Strong evidence against the null hypothesis\n",
      "Reject the null hypothesis\n",
      "Data has no unit root and is stationary\n"
     ]
    }
   ],
   "source": [
    "# spending\n",
    "new_diff_s = np.sqrt(new_df['Spending'])\n",
    "df_diff_sp = new_diff_s.diff().dropna()\n",
    "adf_test(df_diff_sp)"
   ]
  },
  {
   "cell_type": "code",
   "execution_count": 12,
   "id": "81321ed8",
   "metadata": {},
   "outputs": [],
   "source": [
    "# Model creation:"
   ]
  },
  {
   "cell_type": "code",
   "execution_count": 13,
   "id": "6696ede3",
   "metadata": {
    "scrolled": true
   },
   "outputs": [],
   "source": [
    "import statsmodels.api as sm\n",
    "from statsmodels.tsa.api import VAR"
   ]
  },
  {
   "cell_type": "code",
   "execution_count": null,
   "id": "ab723dbd",
   "metadata": {},
   "outputs": [],
   "source": []
  },
  {
   "cell_type": "code",
   "execution_count": 14,
   "id": "1fbea362",
   "metadata": {},
   "outputs": [
    {
     "data": {
      "text/plain": [
       "Date        0\n",
       "Money       0\n",
       "Spending    0\n",
       "dtype: int64"
      ]
     },
     "execution_count": 14,
     "metadata": {},
     "output_type": "execute_result"
    }
   ],
   "source": [
    "new_df = new_df.dropna()  # Drop rows with missing values\n",
    "new_df.isna().sum()"
   ]
  },
  {
   "cell_type": "code",
   "execution_count": 15,
   "id": "08fd1e71",
   "metadata": {},
   "outputs": [],
   "source": [
    "new_df = new_df.drop('Date', axis=1)"
   ]
  },
  {
   "cell_type": "code",
   "execution_count": 16,
   "id": "1f181918",
   "metadata": {
    "scrolled": true
   },
   "outputs": [],
   "source": [
    "model = VAR(new_df)"
   ]
  },
  {
   "cell_type": "code",
   "execution_count": 38,
   "id": "7cdf592c",
   "metadata": {
    "scrolled": true
   },
   "outputs": [],
   "source": [
    "result = model.fit(5)"
   ]
  },
  {
   "cell_type": "code",
   "execution_count": 39,
   "id": "fa37d333",
   "metadata": {},
   "outputs": [
    {
     "data": {
      "text/plain": [
       "  Summary of Regression Results   \n",
       "==================================\n",
       "Model:                         VAR\n",
       "Method:                        OLS\n",
       "Date:           Sat, 18, Nov, 2023\n",
       "Time:                     00:10:47\n",
       "--------------------------------------------------------------------\n",
       "No. of Equations:         2.00000    BIC:                    13.8778\n",
       "Nobs:                     247.000    HQIC:                   13.6911\n",
       "Log likelihood:          -2354.26    FPE:                    778666.\n",
       "AIC:                      13.5652    Det(Omega_mle):         713683.\n",
       "--------------------------------------------------------------------\n",
       "Results for equation Money\n",
       "==============================================================================\n",
       "                 coefficient       std. error           t-stat            prob\n",
       "------------------------------------------------------------------------------\n",
       "const              -3.578575        10.765839           -0.332           0.740\n",
       "L1.Money            1.166264         0.064984           17.947           0.000\n",
       "L1.Spending        -0.128001         0.049702           -2.575           0.010\n",
       "L2.Money           -0.093662         0.100549           -0.931           0.352\n",
       "L2.Spending         0.013760         0.070046            0.196           0.844\n",
       "L3.Money            0.073985         0.102312            0.723           0.470\n",
       "L3.Spending         0.096473         0.070343            1.371           0.170\n",
       "L4.Money           -0.259604         0.101794           -2.550           0.011\n",
       "L4.Spending         0.152404         0.069032            2.208           0.027\n",
       "L5.Money            0.114124         0.064564            1.768           0.077\n",
       "L5.Spending        -0.131595         0.049884           -2.638           0.008\n",
       "==============================================================================\n",
       "\n",
       "Results for equation Spending\n",
       "==============================================================================\n",
       "                 coefficient       std. error           t-stat            prob\n",
       "------------------------------------------------------------------------------\n",
       "const              32.631897        14.361180            2.272           0.023\n",
       "L1.Money            0.167879         0.086685            1.937           0.053\n",
       "L1.Spending         1.009837         0.066300           15.231           0.000\n",
       "L2.Money           -0.241628         0.134129           -1.801           0.072\n",
       "L2.Spending         0.121418         0.093438            1.299           0.194\n",
       "L3.Money            0.026879         0.136479            0.197           0.844\n",
       "L3.Spending        -0.014393         0.093835           -0.153           0.878\n",
       "L4.Money           -0.048322         0.135789           -0.356           0.722\n",
       "L4.Spending        -0.067379         0.092086           -0.732           0.464\n",
       "L5.Money            0.100564         0.086126            1.168           0.243\n",
       "L5.Spending        -0.055003         0.066543           -0.827           0.408\n",
       "==============================================================================\n",
       "\n",
       "Correlation matrix of residuals\n",
       "               Money  Spending\n",
       "Money       1.000000 -0.239601\n",
       "Spending   -0.239601  1.000000\n",
       "\n"
      ]
     },
     "execution_count": 39,
     "metadata": {},
     "output_type": "execute_result"
    }
   ],
   "source": [
    "result.summary()"
   ]
  },
  {
   "cell_type": "code",
   "execution_count": 40,
   "id": "552764e7",
   "metadata": {},
   "outputs": [],
   "source": [
    "lag_order =5\n",
    "forecast_period = 10\n",
    "\n",
    "forcast_values = result.forecast(new_df.values[-lag_order:],steps = forecast_period)\n"
   ]
  },
  {
   "cell_type": "code",
   "execution_count": 41,
   "id": "a9fcc357",
   "metadata": {},
   "outputs": [],
   "source": [
    "forecast_df=pd.DataFrame(forcast_values, columns=new_df.columns)"
   ]
  },
  {
   "cell_type": "code",
   "execution_count": 42,
   "id": "d1c74a41",
   "metadata": {},
   "outputs": [
    {
     "name": "stdout",
     "output_type": "stream",
     "text": [
      "Forecasted values:  \n",
      "          Money      Spending\n",
      "0  12391.288699  12501.807540\n",
      "1  12457.812163  12536.818951\n",
      "2  12515.035869  12570.731641\n",
      "3  12572.408886  12606.823193\n",
      "4  12632.889183  12644.434099\n",
      "5  12691.322436  12682.335139\n",
      "6  12750.496649  12721.108289\n",
      "7  12810.372148  12760.449207\n",
      "8  12869.967201  12799.991513\n",
      "9  12930.020801  12839.905236\n"
     ]
    }
   ],
   "source": [
    "print('Forecasted values:  ')\n",
    "print(forecast_df)"
   ]
  },
  {
   "cell_type": "code",
   "execution_count": 43,
   "id": "5e2191c8",
   "metadata": {},
   "outputs": [
    {
     "data": {
      "image/png": "[encoded data removed]",
      "text/plain": [
       "<Figure size 720x720 with 2 Axes>"
      ]
     },
     "execution_count": 43,
     "metadata": {},
     "output_type": "execute_result"
    },
    {
     "data": {
      "image/png": "[encoded data removed]",
      "text/plain": [
       "<Figure size 720x720 with 2 Axes>"
      ]
     },
     "metadata": {
      "needs_background": "light"
     },
     "output_type": "display_data"
    }
   ],
   "source": [
    "result.plot_forecast(5)"
   ]
  },
  {
   "cell_type": "code",
   "execution_count": null,
   "id": "39400ea2",
   "metadata": {},
   "outputs": [],
   "source": []
  }
 ],
 "metadata": {
  "kernelspec": {
   "display_name": "Python 3 (ipykernel)",
   "language": "python",
   "name": "python3"
  },
  "language_info": {
   "codemirror_mode": {
    "name": "ipython",
    "version": 3
   },
   "file_extension": ".py",
   "mimetype": "text/x-python",
   "name": "python",
   "nbconvert_exporter": "python",
   "pygments_lexer": "ipython3",
   "version": "3.9.12"
  }
 },
 "nbformat": 4,
 "nbformat_minor": 5
}
