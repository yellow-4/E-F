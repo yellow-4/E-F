{
 "cells": [
  {
   "cell_type": "code",
   "execution_count": 1,
   "id": "02be420a",
   "metadata": {},
   "outputs": [],
   "source": [
    "#import packages\n",
    "import pandas as pd\n",
    "from statsmodels.tsa.ar_model import AutoReg\n",
    "import matplotlib.pyplot as plt"
   ]
  },
  {
   "cell_type": "code",
   "execution_count": 2,
   "id": "69a9399a",
   "metadata": {},
   "outputs": [],
   "source": [
    "#Load the dataset\n",
    "tata = pd.read_csv(r\"C:\\Users\\Admin\\Downloads\\TATASTEEL.NS.csv\")"
   ]
  },
  {
   "cell_type": "code",
   "execution_count": 3,
   "id": "6248f7aa",
   "metadata": {},
   "outputs": [
    {
     "name": "stdout",
     "output_type": "stream",
     "text": [
      "<class 'pandas.core.frame.DataFrame'>\n",
      "RangeIndex: 1235 entries, 0 to 1234\n",
      "Data columns (total 7 columns):\n",
      " #   Column     Non-Null Count  Dtype  \n",
      "---  ------     --------------  -----  \n",
      " 0   Date       1235 non-null   object \n",
      " 1   Open       1235 non-null   float64\n",
      " 2   High       1235 non-null   float64\n",
      " 3   Low        1235 non-null   float64\n",
      " 4   Close      1235 non-null   float64\n",
      " 5   Adj Close  1235 non-null   float64\n",
      " 6   Volume     1235 non-null   int64  \n",
      "dtypes: float64(5), int64(1), object(1)\n",
      "memory usage: 67.7+ KB\n"
     ]
    }
   ],
   "source": [
    "tata.info()"
   ]
  },
  {
   "cell_type": "code",
   "execution_count": 4,
   "id": "063a1417",
   "metadata": {},
   "outputs": [
    {
     "data": {
      "text/html": [
       "<div>\n",
       "<style scoped>\n",
       "    .dataframe tbody tr th:only-of-type {\n",
       "        vertical-align: middle;\n",
       "    }\n",
       "\n",
       "    .dataframe tbody tr th {\n",
       "        vertical-align: top;\n",
       "    }\n",
       "\n",
       "    .dataframe thead th {\n",
       "        text-align: right;\n",
       "    }\n",
       "</style>\n",
       "<table border=\"1\" class=\"dataframe\">\n",
       "  <thead>\n",
       "    <tr style=\"text-align: right;\">\n",
       "      <th></th>\n",
       "      <th>Date</th>\n",
       "      <th>Open</th>\n",
       "      <th>High</th>\n",
       "      <th>Low</th>\n",
       "      <th>Close</th>\n",
       "      <th>Adj Close</th>\n",
       "      <th>Volume</th>\n",
       "    </tr>\n",
       "  </thead>\n",
       "  <tbody>\n",
       "    <tr>\n",
       "      <th>0</th>\n",
       "      <td>2018-10-31</td>\n",
       "      <td>55.494999</td>\n",
       "      <td>55.779999</td>\n",
       "      <td>52.935001</td>\n",
       "      <td>55.384998</td>\n",
       "      <td>47.281101</td>\n",
       "      <td>140703330</td>\n",
       "    </tr>\n",
       "    <tr>\n",
       "      <th>1</th>\n",
       "      <td>2018-11-01</td>\n",
       "      <td>55.580002</td>\n",
       "      <td>56.389999</td>\n",
       "      <td>55.400002</td>\n",
       "      <td>55.660000</td>\n",
       "      <td>47.515865</td>\n",
       "      <td>54690570</td>\n",
       "    </tr>\n",
       "    <tr>\n",
       "      <th>2</th>\n",
       "      <td>2018-11-02</td>\n",
       "      <td>56.099998</td>\n",
       "      <td>58.240002</td>\n",
       "      <td>56.064999</td>\n",
       "      <td>57.404999</td>\n",
       "      <td>49.005539</td>\n",
       "      <td>79794570</td>\n",
       "    </tr>\n",
       "    <tr>\n",
       "      <th>3</th>\n",
       "      <td>2018-11-05</td>\n",
       "      <td>57.400002</td>\n",
       "      <td>58.360001</td>\n",
       "      <td>56.750000</td>\n",
       "      <td>57.744999</td>\n",
       "      <td>49.295792</td>\n",
       "      <td>45358560</td>\n",
       "    </tr>\n",
       "    <tr>\n",
       "      <th>4</th>\n",
       "      <td>2018-11-06</td>\n",
       "      <td>57.959999</td>\n",
       "      <td>58.439999</td>\n",
       "      <td>57.000000</td>\n",
       "      <td>57.575001</td>\n",
       "      <td>49.150665</td>\n",
       "      <td>39102740</td>\n",
       "    </tr>\n",
       "  </tbody>\n",
       "</table>\n",
       "</div>"
      ],
      "text/plain": [
       "         Date       Open       High        Low      Close  Adj Close  \\\n",
       "0  2018-10-31  55.494999  55.779999  52.935001  55.384998  47.281101   \n",
       "1  2018-11-01  55.580002  56.389999  55.400002  55.660000  47.515865   \n",
       "2  2018-11-02  56.099998  58.240002  56.064999  57.404999  49.005539   \n",
       "3  2018-11-05  57.400002  58.360001  56.750000  57.744999  49.295792   \n",
       "4  2018-11-06  57.959999  58.439999  57.000000  57.575001  49.150665   \n",
       "\n",
       "      Volume  \n",
       "0  140703330  \n",
       "1   54690570  \n",
       "2   79794570  \n",
       "3   45358560  \n",
       "4   39102740  "
      ]
     },
     "execution_count": 4,
     "metadata": {},
     "output_type": "execute_result"
    }
   ],
   "source": [
    "tata.head()"
   ]
  },
  {
   "cell_type": "code",
   "execution_count": 5,
   "id": "73794da7",
   "metadata": {},
   "outputs": [
    {
     "data": {
      "text/html": [
       "<div>\n",
       "<style scoped>\n",
       "    .dataframe tbody tr th:only-of-type {\n",
       "        vertical-align: middle;\n",
       "    }\n",
       "\n",
       "    .dataframe tbody tr th {\n",
       "        vertical-align: top;\n",
       "    }\n",
       "\n",
       "    .dataframe thead th {\n",
       "        text-align: right;\n",
       "    }\n",
       "</style>\n",
       "<table border=\"1\" class=\"dataframe\">\n",
       "  <thead>\n",
       "    <tr style=\"text-align: right;\">\n",
       "      <th></th>\n",
       "      <th>Date</th>\n",
       "      <th>Open</th>\n",
       "      <th>High</th>\n",
       "      <th>Low</th>\n",
       "      <th>Close</th>\n",
       "      <th>Adj Close</th>\n",
       "      <th>Volume</th>\n",
       "    </tr>\n",
       "  </thead>\n",
       "  <tbody>\n",
       "    <tr>\n",
       "      <th>1230</th>\n",
       "      <td>2023-10-23</td>\n",
       "      <td>123.349998</td>\n",
       "      <td>123.400002</td>\n",
       "      <td>119.699997</td>\n",
       "      <td>120.000000</td>\n",
       "      <td>120.000000</td>\n",
       "      <td>30699479</td>\n",
       "    </tr>\n",
       "    <tr>\n",
       "      <th>1231</th>\n",
       "      <td>2023-10-25</td>\n",
       "      <td>121.199997</td>\n",
       "      <td>122.800003</td>\n",
       "      <td>120.750000</td>\n",
       "      <td>121.349998</td>\n",
       "      <td>121.349998</td>\n",
       "      <td>27346103</td>\n",
       "    </tr>\n",
       "    <tr>\n",
       "      <th>1232</th>\n",
       "      <td>2023-10-26</td>\n",
       "      <td>120.849998</td>\n",
       "      <td>120.900002</td>\n",
       "      <td>118.900002</td>\n",
       "      <td>119.900002</td>\n",
       "      <td>119.900002</td>\n",
       "      <td>36298907</td>\n",
       "    </tr>\n",
       "    <tr>\n",
       "      <th>1233</th>\n",
       "      <td>2023-10-27</td>\n",
       "      <td>120.500000</td>\n",
       "      <td>121.800003</td>\n",
       "      <td>119.500000</td>\n",
       "      <td>119.900002</td>\n",
       "      <td>119.900002</td>\n",
       "      <td>28424007</td>\n",
       "    </tr>\n",
       "    <tr>\n",
       "      <th>1234</th>\n",
       "      <td>2023-10-30</td>\n",
       "      <td>121.050003</td>\n",
       "      <td>121.250000</td>\n",
       "      <td>118.949997</td>\n",
       "      <td>119.150002</td>\n",
       "      <td>119.150002</td>\n",
       "      <td>18753217</td>\n",
       "    </tr>\n",
       "  </tbody>\n",
       "</table>\n",
       "</div>"
      ],
      "text/plain": [
       "            Date        Open        High         Low       Close   Adj Close  \\\n",
       "1230  2023-10-23  123.349998  123.400002  119.699997  120.000000  120.000000   \n",
       "1231  2023-10-25  121.199997  122.800003  120.750000  121.349998  121.349998   \n",
       "1232  2023-10-26  120.849998  120.900002  118.900002  119.900002  119.900002   \n",
       "1233  2023-10-27  120.500000  121.800003  119.500000  119.900002  119.900002   \n",
       "1234  2023-10-30  121.050003  121.250000  118.949997  119.150002  119.150002   \n",
       "\n",
       "        Volume  \n",
       "1230  30699479  \n",
       "1231  27346103  \n",
       "1232  36298907  \n",
       "1233  28424007  \n",
       "1234  18753217  "
      ]
     },
     "execution_count": 5,
     "metadata": {},
     "output_type": "execute_result"
    }
   ],
   "source": [
    "tata.tail()"
   ]
  },
  {
   "cell_type": "code",
   "execution_count": 6,
   "id": "81ec7c64",
   "metadata": {},
   "outputs": [
    {
     "data": {
      "text/html": [
       "<div>\n",
       "<style scoped>\n",
       "    .dataframe tbody tr th:only-of-type {\n",
       "        vertical-align: middle;\n",
       "    }\n",
       "\n",
       "    .dataframe tbody tr th {\n",
       "        vertical-align: top;\n",
       "    }\n",
       "\n",
       "    .dataframe thead th {\n",
       "        text-align: right;\n",
       "    }\n",
       "</style>\n",
       "<table border=\"1\" class=\"dataframe\">\n",
       "  <thead>\n",
       "    <tr style=\"text-align: right;\">\n",
       "      <th></th>\n",
       "      <th>count</th>\n",
       "      <th>mean</th>\n",
       "      <th>std</th>\n",
       "      <th>min</th>\n",
       "      <th>25%</th>\n",
       "      <th>50%</th>\n",
       "      <th>75%</th>\n",
       "      <th>max</th>\n",
       "    </tr>\n",
       "  </thead>\n",
       "  <tbody>\n",
       "    <tr>\n",
       "      <th>Open</th>\n",
       "      <td>1235.0</td>\n",
       "      <td>8.188623e+01</td>\n",
       "      <td>3.689123e+01</td>\n",
       "      <td>26.225000</td>\n",
       "      <td>4.647500e+01</td>\n",
       "      <td>8.852000e+01</td>\n",
       "      <td>1.139425e+02</td>\n",
       "      <td>1.519400e+02</td>\n",
       "    </tr>\n",
       "    <tr>\n",
       "      <th>High</th>\n",
       "      <td>1235.0</td>\n",
       "      <td>8.302787e+01</td>\n",
       "      <td>3.724750e+01</td>\n",
       "      <td>26.795000</td>\n",
       "      <td>4.719000e+01</td>\n",
       "      <td>9.065500e+01</td>\n",
       "      <td>1.157600e+02</td>\n",
       "      <td>1.534500e+02</td>\n",
       "    </tr>\n",
       "    <tr>\n",
       "      <th>Low</th>\n",
       "      <td>1235.0</td>\n",
       "      <td>8.059485e+01</td>\n",
       "      <td>3.638931e+01</td>\n",
       "      <td>25.084999</td>\n",
       "      <td>4.568750e+01</td>\n",
       "      <td>8.750500e+01</td>\n",
       "      <td>1.122500e+02</td>\n",
       "      <td>1.491750e+02</td>\n",
       "    </tr>\n",
       "    <tr>\n",
       "      <th>Close</th>\n",
       "      <td>1235.0</td>\n",
       "      <td>8.176018e+01</td>\n",
       "      <td>3.678373e+01</td>\n",
       "      <td>25.375000</td>\n",
       "      <td>4.647000e+01</td>\n",
       "      <td>8.880500e+01</td>\n",
       "      <td>1.140000e+02</td>\n",
       "      <td>1.519400e+02</td>\n",
       "    </tr>\n",
       "    <tr>\n",
       "      <th>Adj Close</th>\n",
       "      <td>1235.0</td>\n",
       "      <td>7.587922e+01</td>\n",
       "      <td>3.622229e+01</td>\n",
       "      <td>22.228422</td>\n",
       "      <td>4.008031e+01</td>\n",
       "      <td>8.396455e+01</td>\n",
       "      <td>1.077347e+02</td>\n",
       "      <td>1.396047e+02</td>\n",
       "    </tr>\n",
       "    <tr>\n",
       "      <th>Volume</th>\n",
       "      <td>1235.0</td>\n",
       "      <td>1.104945e+08</td>\n",
       "      <td>8.032488e+07</td>\n",
       "      <td>0.000000</td>\n",
       "      <td>5.343832e+07</td>\n",
       "      <td>9.146835e+07</td>\n",
       "      <td>1.426162e+08</td>\n",
       "      <td>6.428460e+08</td>\n",
       "    </tr>\n",
       "  </tbody>\n",
       "</table>\n",
       "</div>"
      ],
      "text/plain": [
       "            count          mean           std        min           25%  \\\n",
       "Open       1235.0  8.188623e+01  3.689123e+01  26.225000  4.647500e+01   \n",
       "High       1235.0  8.302787e+01  3.724750e+01  26.795000  4.719000e+01   \n",
       "Low        1235.0  8.059485e+01  3.638931e+01  25.084999  4.568750e+01   \n",
       "Close      1235.0  8.176018e+01  3.678373e+01  25.375000  4.647000e+01   \n",
       "Adj Close  1235.0  7.587922e+01  3.622229e+01  22.228422  4.008031e+01   \n",
       "Volume     1235.0  1.104945e+08  8.032488e+07   0.000000  5.343832e+07   \n",
       "\n",
       "                    50%           75%           max  \n",
       "Open       8.852000e+01  1.139425e+02  1.519400e+02  \n",
       "High       9.065500e+01  1.157600e+02  1.534500e+02  \n",
       "Low        8.750500e+01  1.122500e+02  1.491750e+02  \n",
       "Close      8.880500e+01  1.140000e+02  1.519400e+02  \n",
       "Adj Close  8.396455e+01  1.077347e+02  1.396047e+02  \n",
       "Volume     9.146835e+07  1.426162e+08  6.428460e+08  "
      ]
     },
     "execution_count": 6,
     "metadata": {},
     "output_type": "execute_result"
    }
   ],
   "source": [
    "tata.describe().T"
   ]
  },
  {
   "cell_type": "markdown",
   "id": "9d0ec849",
   "metadata": {},
   "source": [
    "# Model"
   ]
  },
  {
   "cell_type": "code",
   "execution_count": 7,
   "id": "3f39bdcf",
   "metadata": {},
   "outputs": [],
   "source": [
    "#Creat a model\n",
    "model = AutoReg(tata['High'], lags=20)"
   ]
  },
  {
   "cell_type": "code",
   "execution_count": 8,
   "id": "516a6d24",
   "metadata": {},
   "outputs": [],
   "source": [
    "#fit the model\n",
    "result = model.fit()"
   ]
  },
  {
   "cell_type": "markdown",
   "id": "f2b97b7f",
   "metadata": {},
   "source": [
    "# Prediction"
   ]
  },
  {
   "cell_type": "code",
   "execution_count": 15,
   "id": "0175a919",
   "metadata": {},
   "outputs": [],
   "source": [
    "# Define the number of periods you want to forecast\n",
    "forecast_periods = 5  # Adjust as needed\n",
    "\n",
    "# Use the model's predict method with the parameters\n",
    "forecast = result.predict(start=len(tata)-10, end=len(tata)-1)\n"
   ]
  },
  {
   "cell_type": "code",
   "execution_count": 16,
   "id": "0af438df",
   "metadata": {},
   "outputs": [
    {
     "data": {
      "text/plain": [
       "1225    125.125906\n",
       "1226    127.593136\n",
       "1227    128.706090\n",
       "1228    128.421071\n",
       "1229    126.084136\n",
       "1230    125.483559\n",
       "1231    123.056409\n",
       "1232    122.514499\n",
       "1233    120.724841\n",
       "1234    122.182162\n",
       "dtype: float64"
      ]
     },
     "execution_count": 16,
     "metadata": {},
     "output_type": "execute_result"
    }
   ],
   "source": [
    "forecast"
   ]
  },
  {
   "cell_type": "markdown",
   "id": "84ccb290",
   "metadata": {},
   "source": [
    "# Plot"
   ]
  },
  {
   "cell_type": "code",
   "execution_count": 19,
   "id": "97a9e351",
   "metadata": {},
   "outputs": [],
   "source": [
    "x = tata['Date'][-10:]\n",
    "y1 = tata['High'][-10:]\n",
    "y2 = forecast"
   ]
  },
  {
   "cell_type": "code",
   "execution_count": 25,
   "id": "2f439ea8",
   "metadata": {},
   "outputs": [
    {
     "data": {
      "image/png": "[encoded data removed]",
      "text/plain": [
       "<Figure size 1200x400 with 1 Axes>"
      ]
     },
     "metadata": {},
     "output_type": "display_data"
    }
   ],
   "source": [
    "plt.figure(figsize=(12,4))\n",
    "plt.plot(x,y1, label = 'Actual High Price')\n",
    "plt.plot(x,forecast,label= 'Predicted High Price')\n",
    "plt.title('Camparsion b/w Actual and predicted High Price')\n",
    "plt.xlabel('Date')\n",
    "plt.ylabel('High')\n",
    "plt.legend()\n",
    "plt.show()"
   ]
  },
  {
   "cell_type": "code",
   "execution_count": null,
   "id": "d43d5cc4",
   "metadata": {},
   "outputs": [],
   "source": [
    "\n"
   ]
  }
 ],
 "metadata": {
  "kernelspec": {
   "display_name": "Python 3 (ipykernel)",
   "language": "python",
   "name": "python3"
  },
  "language_info": {
   "codemirror_mode": {
    "name": "ipython",
    "version": 3
   },
   "file_extension": ".py",
   "mimetype": "text/x-python",
   "name": "python",
   "nbconvert_exporter": "python",
   "pygments_lexer": "ipython3",
   "version": "3.11.3"
  }
 },
 "nbformat": 4,
 "nbformat_minor": 5
}
