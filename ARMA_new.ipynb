{
 "cells": [
  {
   "cell_type": "code",
   "execution_count": 1,
   "id": "39e39e53",
   "metadata": {},
   "outputs": [],
   "source": [
    "import pandas as pd\n",
    "from statsmodels.tsa.ar_model import AutoReg\n",
    "import matplotlib.pyplot as plt"
   ]
  },
  {
   "cell_type": "code",
   "execution_count": 2,
   "id": "95534874",
   "metadata": {},
   "outputs": [],
   "source": [
    "data = pd.read_csv(r\"C:\\Users\\jeeva P\\Downloads\\TSLA.csv\")"
   ]
  },
  {
   "cell_type": "code",
   "execution_count": 3,
   "id": "f478a355",
   "metadata": {},
   "outputs": [
    {
     "data": {
      "text/html": [
       "<div>\n",
       "<style scoped>\n",
       "    .dataframe tbody tr th:only-of-type {\n",
       "        vertical-align: middle;\n",
       "    }\n",
       "\n",
       "    .dataframe tbody tr th {\n",
       "        vertical-align: top;\n",
       "    }\n",
       "\n",
       "    .dataframe thead th {\n",
       "        text-align: right;\n",
       "    }\n",
       "</style>\n",
       "<table border=\"1\" class=\"dataframe\">\n",
       "  <thead>\n",
       "    <tr style=\"text-align: right;\">\n",
       "      <th></th>\n",
       "      <th>Date</th>\n",
       "      <th>Open</th>\n",
       "      <th>High</th>\n",
       "      <th>Low</th>\n",
       "      <th>Close</th>\n",
       "      <th>Adj Close</th>\n",
       "      <th>Volume</th>\n",
       "    </tr>\n",
       "  </thead>\n",
       "  <tbody>\n",
       "    <tr>\n",
       "      <th>0</th>\n",
       "      <td>2023-07-31</td>\n",
       "      <td>267.480011</td>\n",
       "      <td>269.079987</td>\n",
       "      <td>263.779999</td>\n",
       "      <td>267.429993</td>\n",
       "      <td>267.429993</td>\n",
       "      <td>84582200</td>\n",
       "    </tr>\n",
       "    <tr>\n",
       "      <th>1</th>\n",
       "      <td>2023-08-01</td>\n",
       "      <td>266.260010</td>\n",
       "      <td>266.470001</td>\n",
       "      <td>260.250000</td>\n",
       "      <td>261.070007</td>\n",
       "      <td>261.070007</td>\n",
       "      <td>83166000</td>\n",
       "    </tr>\n",
       "    <tr>\n",
       "      <th>2</th>\n",
       "      <td>2023-08-02</td>\n",
       "      <td>255.570007</td>\n",
       "      <td>259.519989</td>\n",
       "      <td>250.490005</td>\n",
       "      <td>254.110001</td>\n",
       "      <td>254.110001</td>\n",
       "      <td>101752900</td>\n",
       "    </tr>\n",
       "    <tr>\n",
       "      <th>3</th>\n",
       "      <td>2023-08-03</td>\n",
       "      <td>252.039993</td>\n",
       "      <td>260.489990</td>\n",
       "      <td>252.000000</td>\n",
       "      <td>259.320007</td>\n",
       "      <td>259.320007</td>\n",
       "      <td>97569100</td>\n",
       "    </tr>\n",
       "    <tr>\n",
       "      <th>4</th>\n",
       "      <td>2023-08-04</td>\n",
       "      <td>260.970001</td>\n",
       "      <td>264.769989</td>\n",
       "      <td>253.110001</td>\n",
       "      <td>253.860001</td>\n",
       "      <td>253.860001</td>\n",
       "      <td>99242600</td>\n",
       "    </tr>\n",
       "  </tbody>\n",
       "</table>\n",
       "</div>"
      ],
      "text/plain": [
       "         Date        Open        High         Low       Close   Adj Close  \\\n",
       "0  2023-07-31  267.480011  269.079987  263.779999  267.429993  267.429993   \n",
       "1  2023-08-01  266.260010  266.470001  260.250000  261.070007  261.070007   \n",
       "2  2023-08-02  255.570007  259.519989  250.490005  254.110001  254.110001   \n",
       "3  2023-08-03  252.039993  260.489990  252.000000  259.320007  259.320007   \n",
       "4  2023-08-04  260.970001  264.769989  253.110001  253.860001  253.860001   \n",
       "\n",
       "      Volume  \n",
       "0   84582200  \n",
       "1   83166000  \n",
       "2  101752900  \n",
       "3   97569100  \n",
       "4   99242600  "
      ]
     },
     "execution_count": 3,
     "metadata": {},
     "output_type": "execute_result"
    }
   ],
   "source": [
    "data.head()"
   ]
  },
  {
   "cell_type": "code",
   "execution_count": 4,
   "id": "f7b08ce5",
   "metadata": {},
   "outputs": [
    {
     "data": {
      "text/html": [
       "<div>\n",
       "<style scoped>\n",
       "    .dataframe tbody tr th:only-of-type {\n",
       "        vertical-align: middle;\n",
       "    }\n",
       "\n",
       "    .dataframe tbody tr th {\n",
       "        vertical-align: top;\n",
       "    }\n",
       "\n",
       "    .dataframe thead th {\n",
       "        text-align: right;\n",
       "    }\n",
       "</style>\n",
       "<table border=\"1\" class=\"dataframe\">\n",
       "  <thead>\n",
       "    <tr style=\"text-align: right;\">\n",
       "      <th></th>\n",
       "      <th>Date</th>\n",
       "      <th>Open</th>\n",
       "      <th>High</th>\n",
       "      <th>Low</th>\n",
       "      <th>Close</th>\n",
       "      <th>Adj Close</th>\n",
       "      <th>Volume</th>\n",
       "    </tr>\n",
       "  </thead>\n",
       "  <tbody>\n",
       "    <tr>\n",
       "      <th>60</th>\n",
       "      <td>2023-10-24</td>\n",
       "      <td>216.500000</td>\n",
       "      <td>222.050003</td>\n",
       "      <td>214.110001</td>\n",
       "      <td>216.520004</td>\n",
       "      <td>216.520004</td>\n",
       "      <td>118231100</td>\n",
       "    </tr>\n",
       "    <tr>\n",
       "      <th>61</th>\n",
       "      <td>2023-10-25</td>\n",
       "      <td>215.880005</td>\n",
       "      <td>220.100006</td>\n",
       "      <td>212.199997</td>\n",
       "      <td>212.419998</td>\n",
       "      <td>212.419998</td>\n",
       "      <td>107065100</td>\n",
       "    </tr>\n",
       "    <tr>\n",
       "      <th>62</th>\n",
       "      <td>2023-10-26</td>\n",
       "      <td>211.320007</td>\n",
       "      <td>214.800003</td>\n",
       "      <td>204.880005</td>\n",
       "      <td>205.759995</td>\n",
       "      <td>205.759995</td>\n",
       "      <td>115112600</td>\n",
       "    </tr>\n",
       "    <tr>\n",
       "      <th>63</th>\n",
       "      <td>2023-10-27</td>\n",
       "      <td>210.600006</td>\n",
       "      <td>212.410004</td>\n",
       "      <td>205.770004</td>\n",
       "      <td>207.300003</td>\n",
       "      <td>207.300003</td>\n",
       "      <td>94728100</td>\n",
       "    </tr>\n",
       "    <tr>\n",
       "      <th>64</th>\n",
       "      <td>2023-10-30</td>\n",
       "      <td>209.279999</td>\n",
       "      <td>210.880005</td>\n",
       "      <td>194.669998</td>\n",
       "      <td>197.360001</td>\n",
       "      <td>197.360001</td>\n",
       "      <td>136061800</td>\n",
       "    </tr>\n",
       "  </tbody>\n",
       "</table>\n",
       "</div>"
      ],
      "text/plain": [
       "          Date        Open        High         Low       Close   Adj Close  \\\n",
       "60  2023-10-24  216.500000  222.050003  214.110001  216.520004  216.520004   \n",
       "61  2023-10-25  215.880005  220.100006  212.199997  212.419998  212.419998   \n",
       "62  2023-10-26  211.320007  214.800003  204.880005  205.759995  205.759995   \n",
       "63  2023-10-27  210.600006  212.410004  205.770004  207.300003  207.300003   \n",
       "64  2023-10-30  209.279999  210.880005  194.669998  197.360001  197.360001   \n",
       "\n",
       "       Volume  \n",
       "60  118231100  \n",
       "61  107065100  \n",
       "62  115112600  \n",
       "63   94728100  \n",
       "64  136061800  "
      ]
     },
     "execution_count": 4,
     "metadata": {},
     "output_type": "execute_result"
    }
   ],
   "source": [
    "data.tail()"
   ]
  },
  {
   "cell_type": "code",
   "execution_count": 5,
   "id": "bed84488",
   "metadata": {},
   "outputs": [
    {
     "data": {
      "text/plain": [
       "Date         0\n",
       "Open         0\n",
       "High         0\n",
       "Low          0\n",
       "Close        0\n",
       "Adj Close    0\n",
       "Volume       0\n",
       "dtype: int64"
      ]
     },
     "execution_count": 5,
     "metadata": {},
     "output_type": "execute_result"
    }
   ],
   "source": [
    "data.isnull().sum()"
   ]
  },
  {
   "cell_type": "markdown",
   "id": "f0a567c6",
   "metadata": {},
   "source": [
    "# statioary checking\n"
   ]
  },
  {
   "cell_type": "code",
   "execution_count": 7,
   "id": "5c853247",
   "metadata": {},
   "outputs": [],
   "source": [
    "import statsmodels.api as sm\n",
    "from statsmodels.tsa.arima.model import ARIMA\n",
    "from statsmodels.tsa.stattools import adfuller"
   ]
  },
  {
   "cell_type": "code",
   "execution_count": 8,
   "id": "00efb2ad",
   "metadata": {},
   "outputs": [],
   "source": [
    "# perform adf test\n",
    "\n",
    "result = adfuller(data['Close'])"
   ]
  },
  {
   "cell_type": "code",
   "execution_count": 9,
   "id": "edf81b78",
   "metadata": {},
   "outputs": [
    {
     "name": "stdout",
     "output_type": "stream",
     "text": [
      "ADF_statistic: -1.521286592700396\n",
      "p_value: 0.5229561205178622\n"
     ]
    }
   ],
   "source": [
    "# extract and print the test statistic and p-value\n",
    "\n",
    "adf_statistic = result[0]\n",
    "p_value = result[1]\n",
    "\n",
    "print(\"ADF_statistic:\",adf_statistic)\n",
    "print(\"p_value:\",p_value)"
   ]
  },
  {
   "cell_type": "code",
   "execution_count": 10,
   "id": "e3b8ad70",
   "metadata": {},
   "outputs": [
    {
     "name": "stdout",
     "output_type": "stream",
     "text": [
      "Reject the null hypothesis H0, it mean data is not stationary\n"
     ]
    }
   ],
   "source": [
    "#extract the stationary based on p-value \n",
    "\n",
    "if p_value<= 0.5:\n",
    "    print(\"fail to reject the null hypothesis H0, it mean data is stationary\")\n",
    "else:\n",
    "    print(\"Reject the null hypothesis H0, it mean data is not stationary\")"
   ]
  },
  {
   "cell_type": "markdown",
   "id": "2c4223db",
   "metadata": {},
   "source": [
    "# MODEL CREATION\n"
   ]
  },
  {
   "cell_type": "code",
   "execution_count": 14,
   "id": "4b01e603",
   "metadata": {
    "scrolled": true
   },
   "outputs": [],
   "source": [
    "# CREATE THE ARIMA MODEL \n",
    "\n",
    "model = ARIMA(data['Close'],order = (1,0,1))\n",
    "\n",
    "# fit the model \n",
    "result=model.fit()"
   ]
  },
  {
   "cell_type": "code",
   "execution_count": 15,
   "id": "8569eec4",
   "metadata": {},
   "outputs": [
    {
     "data": {
      "text/html": [
       "<table class=\"simpletable\">\n",
       "<caption>SARIMAX Results</caption>\n",
       "<tr>\n",
       "  <th>Dep. Variable:</th>         <td>Close</td>      <th>  No. Observations:  </th>    <td>65</td>   \n",
       "</tr>\n",
       "<tr>\n",
       "  <th>Model:</th>            <td>ARIMA(1, 0, 1)</td>  <th>  Log Likelihood     </th> <td>-225.080</td>\n",
       "</tr>\n",
       "<tr>\n",
       "  <th>Date:</th>            <td>Sat, 18 Nov 2023</td> <th>  AIC                </th>  <td>458.161</td>\n",
       "</tr>\n",
       "<tr>\n",
       "  <th>Time:</th>                <td>06:45:09</td>     <th>  BIC                </th>  <td>466.859</td>\n",
       "</tr>\n",
       "<tr>\n",
       "  <th>Sample:</th>                  <td>0</td>        <th>  HQIC               </th>  <td>461.593</td>\n",
       "</tr>\n",
       "<tr>\n",
       "  <th></th>                       <td> - 65</td>      <th>                     </th>     <td> </td>   \n",
       "</tr>\n",
       "<tr>\n",
       "  <th>Covariance Type:</th>        <td>opg</td>       <th>                     </th>     <td> </td>   \n",
       "</tr>\n",
       "</table>\n",
       "<table class=\"simpletable\">\n",
       "<tr>\n",
       "     <td></td>       <th>coef</th>     <th>std err</th>      <th>z</th>      <th>P>|z|</th>  <th>[0.025</th>    <th>0.975]</th>  \n",
       "</tr>\n",
       "<tr>\n",
       "  <th>const</th>  <td>  241.3615</td> <td>   15.813</td> <td>   15.263</td> <td> 0.000</td> <td>  210.368</td> <td>  272.355</td>\n",
       "</tr>\n",
       "<tr>\n",
       "  <th>ar.L1</th>  <td>    0.9438</td> <td>    0.068</td> <td>   13.951</td> <td> 0.000</td> <td>    0.811</td> <td>    1.076</td>\n",
       "</tr>\n",
       "<tr>\n",
       "  <th>ma.L1</th>  <td>    0.0234</td> <td>    0.159</td> <td>    0.147</td> <td> 0.883</td> <td>   -0.289</td> <td>    0.336</td>\n",
       "</tr>\n",
       "<tr>\n",
       "  <th>sigma2</th> <td>   57.5656</td> <td>    7.803</td> <td>    7.377</td> <td> 0.000</td> <td>   42.271</td> <td>   72.860</td>\n",
       "</tr>\n",
       "</table>\n",
       "<table class=\"simpletable\">\n",
       "<tr>\n",
       "  <th>Ljung-Box (L1) (Q):</th>     <td>0.01</td> <th>  Jarque-Bera (JB):  </th> <td>14.90</td>\n",
       "</tr>\n",
       "<tr>\n",
       "  <th>Prob(Q):</th>                <td>0.91</td> <th>  Prob(JB):          </th> <td>0.00</td> \n",
       "</tr>\n",
       "<tr>\n",
       "  <th>Heteroskedasticity (H):</th> <td>1.18</td> <th>  Skew:              </th> <td>0.65</td> \n",
       "</tr>\n",
       "<tr>\n",
       "  <th>Prob(H) (two-sided):</th>    <td>0.70</td> <th>  Kurtosis:          </th> <td>4.95</td> \n",
       "</tr>\n",
       "</table><br/><br/>Warnings:<br/>[1] Covariance matrix calculated using the outer product of gradients (complex-step)."
      ],
      "text/plain": [
       "<class 'statsmodels.iolib.summary.Summary'>\n",
       "\"\"\"\n",
       "                               SARIMAX Results                                \n",
       "==============================================================================\n",
       "Dep. Variable:                  Close   No. Observations:                   65\n",
       "Model:                 ARIMA(1, 0, 1)   Log Likelihood                -225.080\n",
       "Date:                Sat, 18 Nov 2023   AIC                            458.161\n",
       "Time:                        06:45:09   BIC                            466.859\n",
       "Sample:                             0   HQIC                           461.593\n",
       "                                 - 65                                         \n",
       "Covariance Type:                  opg                                         \n",
       "==============================================================================\n",
       "                 coef    std err          z      P>|z|      [0.025      0.975]\n",
       "------------------------------------------------------------------------------\n",
       "const        241.3615     15.813     15.263      0.000     210.368     272.355\n",
       "ar.L1          0.9438      0.068     13.951      0.000       0.811       1.076\n",
       "ma.L1          0.0234      0.159      0.147      0.883      -0.289       0.336\n",
       "sigma2        57.5656      7.803      7.377      0.000      42.271      72.860\n",
       "===================================================================================\n",
       "Ljung-Box (L1) (Q):                   0.01   Jarque-Bera (JB):                14.90\n",
       "Prob(Q):                              0.91   Prob(JB):                         0.00\n",
       "Heteroskedasticity (H):               1.18   Skew:                             0.65\n",
       "Prob(H) (two-sided):                  0.70   Kurtosis:                         4.95\n",
       "===================================================================================\n",
       "\n",
       "Warnings:\n",
       "[1] Covariance matrix calculated using the outer product of gradients (complex-step).\n",
       "\"\"\""
      ]
     },
     "execution_count": 15,
     "metadata": {},
     "output_type": "execute_result"
    }
   ],
   "source": [
    "#summary\n",
    "result.summary()"
   ]
  },
  {
   "cell_type": "markdown",
   "id": "7edbe7ee",
   "metadata": {},
   "source": [
    "# FUTURE PREDICTION"
   ]
  },
  {
   "cell_type": "code",
   "execution_count": 16,
   "id": "028d8275",
   "metadata": {},
   "outputs": [],
   "source": [
    "data['ARMA_forecast'] = result.predict(start = 0, end = len(data)-1)"
   ]
  },
  {
   "cell_type": "code",
   "execution_count": 18,
   "id": "caad2678",
   "metadata": {},
   "outputs": [
    {
     "data": {
      "text/html": [
       "<div>\n",
       "<style scoped>\n",
       "    .dataframe tbody tr th:only-of-type {\n",
       "        vertical-align: middle;\n",
       "    }\n",
       "\n",
       "    .dataframe tbody tr th {\n",
       "        vertical-align: top;\n",
       "    }\n",
       "\n",
       "    .dataframe thead th {\n",
       "        text-align: right;\n",
       "    }\n",
       "</style>\n",
       "<table border=\"1\" class=\"dataframe\">\n",
       "  <thead>\n",
       "    <tr style=\"text-align: right;\">\n",
       "      <th></th>\n",
       "      <th>Date</th>\n",
       "      <th>Open</th>\n",
       "      <th>High</th>\n",
       "      <th>Low</th>\n",
       "      <th>Close</th>\n",
       "      <th>Adj Close</th>\n",
       "      <th>Volume</th>\n",
       "      <th>ARMA_forecast</th>\n",
       "    </tr>\n",
       "  </thead>\n",
       "  <tbody>\n",
       "    <tr>\n",
       "      <th>60</th>\n",
       "      <td>2023-10-24</td>\n",
       "      <td>216.500000</td>\n",
       "      <td>222.050003</td>\n",
       "      <td>214.110001</td>\n",
       "      <td>216.520004</td>\n",
       "      <td>216.520004</td>\n",
       "      <td>118231100</td>\n",
       "      <td>213.693950</td>\n",
       "    </tr>\n",
       "    <tr>\n",
       "      <th>61</th>\n",
       "      <td>2023-10-25</td>\n",
       "      <td>215.880005</td>\n",
       "      <td>220.100006</td>\n",
       "      <td>212.199997</td>\n",
       "      <td>212.419998</td>\n",
       "      <td>212.419998</td>\n",
       "      <td>107065100</td>\n",
       "      <td>217.982319</td>\n",
       "    </tr>\n",
       "    <tr>\n",
       "      <th>62</th>\n",
       "      <td>2023-10-26</td>\n",
       "      <td>211.320007</td>\n",
       "      <td>214.800003</td>\n",
       "      <td>204.880005</td>\n",
       "      <td>205.759995</td>\n",
       "      <td>205.759995</td>\n",
       "      <td>115112600</td>\n",
       "      <td>213.916311</td>\n",
       "    </tr>\n",
       "    <tr>\n",
       "      <th>63</th>\n",
       "      <td>2023-10-27</td>\n",
       "      <td>210.600006</td>\n",
       "      <td>212.410004</td>\n",
       "      <td>205.770004</td>\n",
       "      <td>207.300003</td>\n",
       "      <td>207.300003</td>\n",
       "      <td>94728100</td>\n",
       "      <td>207.569868</td>\n",
       "    </tr>\n",
       "    <tr>\n",
       "      <th>64</th>\n",
       "      <td>2023-10-30</td>\n",
       "      <td>209.279999</td>\n",
       "      <td>210.880005</td>\n",
       "      <td>194.669998</td>\n",
       "      <td>197.360001</td>\n",
       "      <td>197.360001</td>\n",
       "      <td>136061800</td>\n",
       "      <td>209.208001</td>\n",
       "    </tr>\n",
       "  </tbody>\n",
       "</table>\n",
       "</div>"
      ],
      "text/plain": [
       "          Date        Open        High         Low       Close   Adj Close  \\\n",
       "60  2023-10-24  216.500000  222.050003  214.110001  216.520004  216.520004   \n",
       "61  2023-10-25  215.880005  220.100006  212.199997  212.419998  212.419998   \n",
       "62  2023-10-26  211.320007  214.800003  204.880005  205.759995  205.759995   \n",
       "63  2023-10-27  210.600006  212.410004  205.770004  207.300003  207.300003   \n",
       "64  2023-10-30  209.279999  210.880005  194.669998  197.360001  197.360001   \n",
       "\n",
       "       Volume  ARMA_forecast  \n",
       "60  118231100     213.693950  \n",
       "61  107065100     217.982319  \n",
       "62  115112600     213.916311  \n",
       "63   94728100     207.569868  \n",
       "64  136061800     209.208001  "
      ]
     },
     "execution_count": 18,
     "metadata": {},
     "output_type": "execute_result"
    }
   ],
   "source": [
    "data.tail()"
   ]
  },
  {
   "cell_type": "code",
   "execution_count": 25,
   "id": "c963ebc3",
   "metadata": {},
   "outputs": [
    {
     "data": {
      "image/png": "[encoded data removed]",
      "text/plain": [
       "<Figure size 1800x600 with 1 Axes>"
      ]
     },
     "metadata": {},
     "output_type": "display_data"
    }
   ],
   "source": [
    "# plot the prediction\n",
    "\n",
    "x = data['Date'][-20:]\n",
    "y1 = data['Close'][-20:]\n",
    "y2 = data[\"ARMA_forecast\"][-20:]\n",
    "\n",
    "plt.figure(figsize = (18,6))\n",
    "plt.plot(x,y1, label = 'Actual close value', color = 'blue')\n",
    "plt.plot(x,y2,'r--',label = 'predicted close value')\n",
    "plt.title('ARIMA_forecasting')\n",
    "plt.xlabel('Date')\n",
    "plt.ylabel('Close Price')\n",
    "plt.legend()\n",
    "plt.show()"
   ]
  },
  {
   "cell_type": "code",
   "execution_count": null,
   "id": "48a56cc6",
   "metadata": {},
   "outputs": [],
   "source": []
  }
 ],
 "metadata": {
  "kernelspec": {
   "display_name": "Python 3 (ipykernel)",
   "language": "python",
   "name": "python3"
  },
  "language_info": {
   "codemirror_mode": {
    "name": "ipython",
    "version": 3
   },
   "file_extension": ".py",
   "mimetype": "text/x-python",
   "name": "python",
   "nbconvert_exporter": "python",
   "pygments_lexer": "ipython3",
   "version": "3.9.13"
  }
 },
 "nbformat": 4,
 "nbformat_minor": 5
}
