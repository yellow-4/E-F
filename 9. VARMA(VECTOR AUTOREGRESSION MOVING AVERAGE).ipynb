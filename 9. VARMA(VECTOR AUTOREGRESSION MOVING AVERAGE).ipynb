{
 "cells": [
  {
   "cell_type": "code",
   "execution_count": 1,
   "id": "285eae8e",
   "metadata": {},
   "outputs": [],
   "source": [
    "import pandas as pd\n",
    "import numpy as np\n",
    "from statsmodels.tsa.ar_model import AutoReg\n",
    "import matplotlib.pyplot as plt"
   ]
  },
  {
   "cell_type": "code",
   "execution_count": 2,
   "id": "b3024ceb",
   "metadata": {},
   "outputs": [],
   "source": [
    "#kaggle link:  https://www.kaggle.com/code/prakharprasad/time-series-varma/input?select=M2SLMoneyStock.csv\n",
    "\n",
    "# import data\n",
    "df1= pd.read_csv(r\"C:\\Users\\MMM\\Downloads\\Eco and finance\\M2SLMoneyStock.csv\")\n",
    "df2= pd.read_csv(r\"C:\\Users\\MMM\\Downloads\\Eco and finance\\PCEPersonalSpending.csv\")"
   ]
  },
  {
   "cell_type": "code",
   "execution_count": 3,
   "id": "956066a6",
   "metadata": {},
   "outputs": [
    {
     "data": {
      "text/html": [
       "<div>\n",
       "<style scoped>\n",
       "    .dataframe tbody tr th:only-of-type {\n",
       "        vertical-align: middle;\n",
       "    }\n",
       "\n",
       "    .dataframe tbody tr th {\n",
       "        vertical-align: top;\n",
       "    }\n",
       "\n",
       "    .dataframe thead th {\n",
       "        text-align: right;\n",
       "    }\n",
       "</style>\n",
       "<table border=\"1\" class=\"dataframe\">\n",
       "  <thead>\n",
       "    <tr style=\"text-align: right;\">\n",
       "      <th></th>\n",
       "      <th>Date</th>\n",
       "      <th>Money</th>\n",
       "      <th>Spending</th>\n",
       "    </tr>\n",
       "  </thead>\n",
       "  <tbody>\n",
       "    <tr>\n",
       "      <th>0</th>\n",
       "      <td>1/1/1995</td>\n",
       "      <td>3492.4</td>\n",
       "      <td>4851.2</td>\n",
       "    </tr>\n",
       "    <tr>\n",
       "      <th>1</th>\n",
       "      <td>2/1/1995</td>\n",
       "      <td>3489.9</td>\n",
       "      <td>4850.8</td>\n",
       "    </tr>\n",
       "    <tr>\n",
       "      <th>2</th>\n",
       "      <td>3/1/1995</td>\n",
       "      <td>3491.1</td>\n",
       "      <td>4885.4</td>\n",
       "    </tr>\n",
       "    <tr>\n",
       "      <th>3</th>\n",
       "      <td>4/1/1995</td>\n",
       "      <td>3499.2</td>\n",
       "      <td>4890.2</td>\n",
       "    </tr>\n",
       "    <tr>\n",
       "      <th>4</th>\n",
       "      <td>5/1/1995</td>\n",
       "      <td>3524.2</td>\n",
       "      <td>4933.1</td>\n",
       "    </tr>\n",
       "  </tbody>\n",
       "</table>\n",
       "</div>"
      ],
      "text/plain": [
       "       Date   Money  Spending\n",
       "0  1/1/1995  3492.4    4851.2\n",
       "1  2/1/1995  3489.9    4850.8\n",
       "2  3/1/1995  3491.1    4885.4\n",
       "3  4/1/1995  3499.2    4890.2\n",
       "4  5/1/1995  3524.2    4933.1"
      ]
     },
     "execution_count": 3,
     "metadata": {},
     "output_type": "execute_result"
    }
   ],
   "source": [
    "new_df = pd.concat([df1,df2['Spending']],axis=1 , join='inner')\n",
    "new_df.set_index('Date')\n",
    "new_df.head()"
   ]
  },
  {
   "cell_type": "code",
   "execution_count": 4,
   "id": "7ed31e5d",
   "metadata": {},
   "outputs": [
    {
     "data": {
      "text/plain": [
       "<AxesSubplot:>"
      ]
     },
     "execution_count": 4,
     "metadata": {},
     "output_type": "execute_result"
    },
    {
     "data": {
      "image/png": "[encoded data removed]",
      "text/plain": [
       "<Figure size 432x288 with 1 Axes>"
      ]
     },
     "metadata": {
      "needs_background": "light"
     },
     "output_type": "display_data"
    }
   ],
   "source": [
    "# plot the time series data\n",
    "new_df.plot()"
   ]
  },
  {
   "cell_type": "markdown",
   "id": "19db554a",
   "metadata": {},
   "source": [
    "####    #stationary checking"
   ]
  },
  {
   "cell_type": "code",
   "execution_count": 5,
   "id": "67ccd3c4",
   "metadata": {},
   "outputs": [],
   "source": [
    "from statsmodels.tsa.stattools import adfuller"
   ]
  },
  {
   "cell_type": "code",
   "execution_count": 6,
   "id": "055bb3bd",
   "metadata": {},
   "outputs": [],
   "source": [
    "test_result = adfuller(new_df['Money'])\n",
    "test_result1 = adfuller(new_df['Spending'])"
   ]
  },
  {
   "cell_type": "code",
   "execution_count": 7,
   "id": "13e45be8",
   "metadata": {},
   "outputs": [],
   "source": [
    "def adf_test(series,title = ''):\n",
    "    print(f'Augumented Dicker - Fuller Test : {title}')\n",
    "    result = adfuller(series.dropna(),autolag='AIC')\n",
    "    labels = ['ADF test statistic', 'p-value','#lags used','#observation']\n",
    "    out = pd.Series(result[0:4],index = labels)\n",
    "    for key,val in result[4].items():\n",
    "        out[f'critical value({key})']=val\n",
    "    print(out.to_string())\n",
    "    if result[1] <=0.05:\n",
    "        print(\"Strong evidence against the null hypothesis\")\n",
    "        print(\"Reject the null hypothesis\")\n",
    "        print(\"Data has no unit root and is stationary\")\n",
    "    else:\n",
    "        print(\"Weak evidence against the null hypothesis\")\n",
    "        print(\"Fail to reject the null hypothesis\")\n",
    "        print(\"Data has a unit root and is non-stationary\")"
   ]
  },
  {
   "cell_type": "code",
   "execution_count": 8,
   "id": "59d618ec",
   "metadata": {},
   "outputs": [
    {
     "name": "stdout",
     "output_type": "stream",
     "text": [
      "Augumented Dicker - Fuller Test : \n",
      "ADF test statistic       4.239022\n",
      "p-value                  1.000000\n",
      "#lags used               4.000000\n",
      "#observation           247.000000\n",
      "critical value(1%)      -3.457105\n",
      "critical value(5%)      -2.873314\n",
      "critical value(10%)     -2.573044\n",
      "Weak evidence against the null hypothesis\n",
      "Fail to reject the null hypothesis\n",
      "Data has a unit root and is non-stationary\n"
     ]
    }
   ],
   "source": [
    "adf_test(new_df['Money'])"
   ]
  },
  {
   "cell_type": "code",
   "execution_count": 9,
   "id": "26e2bc7b",
   "metadata": {},
   "outputs": [
    {
     "name": "stdout",
     "output_type": "stream",
     "text": [
      "Augumented Dicker - Fuller Test : \n",
      "ADF test statistic       0.149796\n",
      "p-value                  0.969301\n",
      "#lags used               3.000000\n",
      "#observation           248.000000\n",
      "critical value(1%)      -3.456996\n",
      "critical value(5%)      -2.873266\n",
      "critical value(10%)     -2.573019\n",
      "Weak evidence against the null hypothesis\n",
      "Fail to reject the null hypothesis\n",
      "Data has a unit root and is non-stationary\n"
     ]
    }
   ],
   "source": [
    "adf_test(new_df['Spending'])"
   ]
  },
  {
   "cell_type": "code",
   "execution_count": 10,
   "id": "4e3b7fb4",
   "metadata": {},
   "outputs": [
    {
     "name": "stdout",
     "output_type": "stream",
     "text": [
      "Augumented Dicker - Fuller Test : \n",
      "ADF test statistic    -6.694135e+00\n",
      "p-value                4.039577e-09\n",
      "#lags used             3.000000e+00\n",
      "#observation           2.470000e+02\n",
      "critical value(1%)    -3.457105e+00\n",
      "critical value(5%)    -2.873314e+00\n",
      "critical value(10%)   -2.573044e+00\n",
      "Strong evidence against the null hypothesis\n",
      "Reject the null hypothesis\n",
      "Data has no unit root and is stationary\n"
     ]
    }
   ],
   "source": [
    "#money\n",
    "new_diff = np.sqrt(new_df['Money'])\n",
    "df_diff = new_diff.diff().dropna()\n",
    "adf_test(df_diff)"
   ]
  },
  {
   "cell_type": "code",
   "execution_count": 25,
   "id": "d9f3ca0f",
   "metadata": {},
   "outputs": [
    {
     "data": {
      "text/plain": [
       "0       59.096531\n",
       "1       59.075376\n",
       "2       59.085531\n",
       "3       59.154036\n",
       "4       59.364973\n",
       "          ...    \n",
       "247    109.985454\n",
       "248    110.244274\n",
       "249    110.397917\n",
       "250    110.803430\n",
       "251    111.067097\n",
       "Name: Money, Length: 252, dtype: float64"
      ]
     },
     "execution_count": 25,
     "metadata": {},
     "output_type": "execute_result"
    }
   ],
   "source": [
    "new_diff"
   ]
  },
  {
   "cell_type": "code",
   "execution_count": 11,
   "id": "41de985e",
   "metadata": {},
   "outputs": [
    {
     "name": "stdout",
     "output_type": "stream",
     "text": [
      "Augumented Dicker - Fuller Test : \n",
      "ADF test statistic    -7.282439e+00\n",
      "p-value                1.488269e-10\n",
      "#lags used             2.000000e+00\n",
      "#observation           2.480000e+02\n",
      "critical value(1%)    -3.456996e+00\n",
      "critical value(5%)    -2.873266e+00\n",
      "critical value(10%)   -2.573019e+00\n",
      "Strong evidence against the null hypothesis\n",
      "Reject the null hypothesis\n",
      "Data has no unit root and is stationary\n"
     ]
    }
   ],
   "source": [
    "# spending\n",
    "new_diff_s = np.sqrt(new_df['Spending'])\n",
    "df_diff_sp = new_diff_s.diff().dropna()\n",
    "adf_test(df_diff_sp)"
   ]
  },
  {
   "cell_type": "code",
   "execution_count": 24,
   "id": "32ef8c3a",
   "metadata": {},
   "outputs": [
    {
     "data": {
      "text/plain": [
       "0       69.650556\n",
       "1       69.647685\n",
       "2       69.895636\n",
       "3       69.929965\n",
       "4       70.236031\n",
       "          ...    \n",
       "247    111.328343\n",
       "248    111.322954\n",
       "249    111.427555\n",
       "250    111.580016\n",
       "251    111.665124\n",
       "Name: Spending, Length: 252, dtype: float64"
      ]
     },
     "execution_count": 24,
     "metadata": {},
     "output_type": "execute_result"
    }
   ],
   "source": [
    "new_diff_s"
   ]
  },
  {
   "cell_type": "code",
   "execution_count": 12,
   "id": "1ca7c44b",
   "metadata": {},
   "outputs": [],
   "source": [
    "# Model creation:"
   ]
  },
  {
   "cell_type": "code",
   "execution_count": 13,
   "id": "a55b5d01",
   "metadata": {},
   "outputs": [],
   "source": [
    "import statsmodels.api as sm\n",
    "from statsmodels.tsa.statespace.varmax import VARMAX\n",
    "\n",
    "import warnings \n",
    "warnings.filterwarnings(\"ignore\") \n"
   ]
  },
  {
   "cell_type": "code",
   "execution_count": 14,
   "id": "a8f96ea8",
   "metadata": {},
   "outputs": [
    {
     "data": {
      "text/plain": [
       "Date        0\n",
       "Money       0\n",
       "Spending    0\n",
       "dtype: int64"
      ]
     },
     "execution_count": 14,
     "metadata": {},
     "output_type": "execute_result"
    }
   ],
   "source": [
    "new_df = new_df.dropna()  # Drop rows with missing values\n",
    "new_df.isna().sum()"
   ]
  },
  {
   "cell_type": "code",
   "execution_count": 15,
   "id": "4ab89f97",
   "metadata": {},
   "outputs": [],
   "source": [
    "new_df = new_df.drop('Date', axis=1)"
   ]
  },
  {
   "cell_type": "code",
   "execution_count": 16,
   "id": "d5a560e7",
   "metadata": {},
   "outputs": [],
   "source": [
    "p=2\n",
    "q=1"
   ]
  },
  {
   "cell_type": "code",
   "execution_count": 17,
   "id": "457d1d0e",
   "metadata": {},
   "outputs": [],
   "source": [
    "model=VARMAX(new_df,order=(p,q))"
   ]
  },
  {
   "cell_type": "code",
   "execution_count": 18,
   "id": "d5357e88",
   "metadata": {},
   "outputs": [],
   "source": [
    "results=model.fit()"
   ]
  },
  {
   "cell_type": "code",
   "execution_count": 19,
   "id": "732c1bba",
   "metadata": {
    "scrolled": true
   },
   "outputs": [
    {
     "data": {
      "text/html": [
       "<table class=\"simpletable\">\n",
       "<caption>Statespace Model Results</caption>\n",
       "<tr>\n",
       "  <th>Dep. Variable:</th>   <td>['Money', 'Spending']</td> <th>  No. Observations:  </th>    <td>252</td>   \n",
       "</tr>\n",
       "<tr>\n",
       "  <th>Model:</th>                <td>VARMA(2,1)</td>       <th>  Log Likelihood     </th> <td>-2448.172</td>\n",
       "</tr>\n",
       "<tr>\n",
       "  <th></th>                      <td>+ intercept</td>      <th>  AIC                </th> <td>4930.345</td> \n",
       "</tr>\n",
       "<tr>\n",
       "  <th>Date:</th>              <td>Sat, 18 Nov 2023</td>    <th>  BIC                </th> <td>4990.345</td> \n",
       "</tr>\n",
       "<tr>\n",
       "  <th>Time:</th>                  <td>00:33:36</td>        <th>  HQIC               </th> <td>4954.488</td> \n",
       "</tr>\n",
       "<tr>\n",
       "  <th>Sample:</th>                    <td>0</td>           <th>                     </th>     <td> </td>    \n",
       "</tr>\n",
       "<tr>\n",
       "  <th></th>                        <td> - 252</td>         <th>                     </th>     <td> </td>    \n",
       "</tr>\n",
       "<tr>\n",
       "  <th>Covariance Type:</th>          <td>opg</td>          <th>                     </th>     <td> </td>    \n",
       "</tr>\n",
       "</table>\n",
       "<table class=\"simpletable\">\n",
       "<tr>\n",
       "  <th>Ljung-Box (L1) (Q):</th>     <td>0.39, 7.95</td> <th>  Jarque-Bera (JB):  </th> <td>499.27, 140.05</td>\n",
       "</tr>\n",
       "<tr>\n",
       "  <th>Prob(Q):</th>                <td>0.53, 0.00</td> <th>  Prob(JB):          </th>   <td>0.00, 0.00</td>  \n",
       "</tr>\n",
       "<tr>\n",
       "  <th>Heteroskedasticity (H):</th> <td>3.12, 0.85</td> <th>  Skew:              </th>   <td>1.26, 0.10</td>  \n",
       "</tr>\n",
       "<tr>\n",
       "  <th>Prob(H) (two-sided):</th>    <td>0.00, 0.45</td> <th>  Kurtosis:          </th>   <td>9.42, 6.65</td>  \n",
       "</tr>\n",
       "</table>\n",
       "<table class=\"simpletable\">\n",
       "<caption>Results for equation Money</caption>\n",
       "<tr>\n",
       "         <td></td>           <th>coef</th>     <th>std err</th>      <th>z</th>      <th>P>|z|</th>  <th>[0.025</th>    <th>0.975]</th>  \n",
       "</tr>\n",
       "<tr>\n",
       "  <th>intercept</th>      <td>  -18.9711</td> <td>   10.191</td> <td>   -1.862</td> <td> 0.063</td> <td>  -38.946</td> <td>    1.003</td>\n",
       "</tr>\n",
       "<tr>\n",
       "  <th>L1.Money</th>       <td>    1.8122</td> <td>    0.108</td> <td>   16.808</td> <td> 0.000</td> <td>    1.601</td> <td>    2.023</td>\n",
       "</tr>\n",
       "<tr>\n",
       "  <th>L1.Spending</th>    <td>    0.1638</td> <td>    0.092</td> <td>    1.774</td> <td> 0.076</td> <td>   -0.017</td> <td>    0.345</td>\n",
       "</tr>\n",
       "<tr>\n",
       "  <th>L2.Money</th>       <td>   -0.8169</td> <td>    0.107</td> <td>   -7.654</td> <td> 0.000</td> <td>   -1.026</td> <td>   -0.608</td>\n",
       "</tr>\n",
       "<tr>\n",
       "  <th>L2.Spending</th>    <td>   -0.1575</td> <td>    0.091</td> <td>   -1.739</td> <td> 0.082</td> <td>   -0.335</td> <td>    0.020</td>\n",
       "</tr>\n",
       "<tr>\n",
       "  <th>L1.e(Money)</th>    <td>   -0.6697</td> <td>    0.120</td> <td>   -5.580</td> <td> 0.000</td> <td>   -0.905</td> <td>   -0.434</td>\n",
       "</tr>\n",
       "<tr>\n",
       "  <th>L1.e(Spending)</th> <td>   -0.2879</td> <td>    0.126</td> <td>   -2.280</td> <td> 0.023</td> <td>   -0.535</td> <td>   -0.040</td>\n",
       "</tr>\n",
       "</table>\n",
       "<table class=\"simpletable\">\n",
       "<caption>Results for equation Spending</caption>\n",
       "<tr>\n",
       "         <td></td>           <th>coef</th>     <th>std err</th>      <th>z</th>      <th>P>|z|</th>  <th>[0.025</th>    <th>0.975]</th>  \n",
       "</tr>\n",
       "<tr>\n",
       "  <th>intercept</th>      <td>   23.4022</td> <td>    9.193</td> <td>    2.546</td> <td> 0.011</td> <td>    5.384</td> <td>   41.421</td>\n",
       "</tr>\n",
       "<tr>\n",
       "  <th>L1.Money</th>       <td>    0.1865</td> <td>    0.093</td> <td>    2.004</td> <td> 0.045</td> <td>    0.004</td> <td>    0.369</td>\n",
       "</tr>\n",
       "<tr>\n",
       "  <th>L1.Spending</th>    <td>    1.8181</td> <td>    0.084</td> <td>   21.680</td> <td> 0.000</td> <td>    1.654</td> <td>    1.982</td>\n",
       "</tr>\n",
       "<tr>\n",
       "  <th>L2.Money</th>       <td>   -0.1814</td> <td>    0.092</td> <td>   -1.968</td> <td> 0.049</td> <td>   -0.362</td> <td>   -0.001</td>\n",
       "</tr>\n",
       "<tr>\n",
       "  <th>L2.Spending</th>    <td>   -0.8252</td> <td>    0.083</td> <td>   -9.990</td> <td> 0.000</td> <td>   -0.987</td> <td>   -0.663</td>\n",
       "</tr>\n",
       "<tr>\n",
       "  <th>L1.e(Money)</th>    <td>   -0.1149</td> <td>    0.121</td> <td>   -0.951</td> <td> 0.341</td> <td>   -0.352</td> <td>    0.122</td>\n",
       "</tr>\n",
       "<tr>\n",
       "  <th>L1.e(Spending)</th> <td>   -0.5897</td> <td>    0.107</td> <td>   -5.497</td> <td> 0.000</td> <td>   -0.800</td> <td>   -0.379</td>\n",
       "</tr>\n",
       "</table>\n",
       "<table class=\"simpletable\">\n",
       "<caption>Error covariance matrix</caption>\n",
       "<tr>\n",
       "             <td></td>                <th>coef</th>     <th>std err</th>      <th>z</th>      <th>P>|z|</th>  <th>[0.025</th>    <th>0.975]</th>  \n",
       "</tr>\n",
       "<tr>\n",
       "  <th>sqrt.var.Money</th>          <td>   28.9323</td> <td>    1.092</td> <td>   26.501</td> <td> 0.000</td> <td>   26.793</td> <td>   31.072</td>\n",
       "</tr>\n",
       "<tr>\n",
       "  <th>sqrt.cov.Money.Spending</th> <td>   -1.0525</td> <td>    2.725</td> <td>   -0.386</td> <td> 0.699</td> <td>   -6.394</td> <td>    4.288</td>\n",
       "</tr>\n",
       "<tr>\n",
       "  <th>sqrt.var.Spending</th>       <td>   36.7263</td> <td>    1.549</td> <td>   23.703</td> <td> 0.000</td> <td>   33.689</td> <td>   39.763</td>\n",
       "</tr>\n",
       "</table><br/><br/>Warnings:<br/>[1] Covariance matrix calculated using the outer product of gradients (complex-step)."
      ],
      "text/latex": [
       "\\begin{center}\n",
       "\\begin{tabular}{lclc}\n",
       "\\toprule\n",
       "\\textbf{Dep. Variable:}          & ['Money', 'Spending'] & \\textbf{  No. Observations:  } &      252        \\\\\n",
       "\\textbf{Model:}                  &       VARMA(2,1)      & \\textbf{  Log Likelihood     } &   -2448.172     \\\\\n",
       "\\textbf{}                        &      + intercept      & \\textbf{  AIC                } &    4930.345     \\\\\n",
       "\\textbf{Date:}                   &    Sat, 18 Nov 2023   & \\textbf{  BIC                } &    4990.345     \\\\\n",
       "\\textbf{Time:}                   &        00:33:36       & \\textbf{  HQIC               } &    4954.488     \\\\\n",
       "\\textbf{Sample:}                 &           0           & \\textbf{                     } &                 \\\\\n",
       "\\textbf{}                        &          - 252        & \\textbf{                     } &                 \\\\\n",
       "\\textbf{Covariance Type:}        &          opg          & \\textbf{                     } &                 \\\\\n",
       "\\textbf{Ljung-Box (L1) (Q):}     & 0.39, 7.95 & \\textbf{  Jarque-Bera (JB):  } & 499.27, 140.05  \\\\\n",
       "\\textbf{Prob(Q):}                & 0.53, 0.00 & \\textbf{  Prob(JB):          } &   0.00, 0.00    \\\\\n",
       "\\textbf{Heteroskedasticity (H):} & 3.12, 0.85 & \\textbf{  Skew:              } &   1.26, 0.10    \\\\\n",
       "\\textbf{Prob(H) (two-sided):}    & 0.00, 0.45 & \\textbf{  Kurtosis:          } &   9.42, 6.65    \\\\\n",
       "\\bottomrule\n",
       "\\end{tabular}\n",
       "\\begin{tabular}{lcccccc}\n",
       "                        & \\textbf{coef} & \\textbf{std err} & \\textbf{z} & \\textbf{P$> |$z$|$} & \\textbf{[0.025} & \\textbf{0.975]}  \\\\\n",
       "\\midrule\n",
       "\\textbf{intercept}      &     -18.9711  &       10.191     &    -1.862  &         0.063        &      -38.946    &        1.003     \\\\\n",
       "\\textbf{L1.Money}       &       1.8122  &        0.108     &    16.808  &         0.000        &        1.601    &        2.023     \\\\\n",
       "\\textbf{L1.Spending}    &       0.1638  &        0.092     &     1.774  &         0.076        &       -0.017    &        0.345     \\\\\n",
       "\\textbf{L2.Money}       &      -0.8169  &        0.107     &    -7.654  &         0.000        &       -1.026    &       -0.608     \\\\\n",
       "\\textbf{L2.Spending}    &      -0.1575  &        0.091     &    -1.739  &         0.082        &       -0.335    &        0.020     \\\\\n",
       "\\textbf{L1.e(Money)}    &      -0.6697  &        0.120     &    -5.580  &         0.000        &       -0.905    &       -0.434     \\\\\n",
       "\\textbf{L1.e(Spending)} &      -0.2879  &        0.126     &    -2.280  &         0.023        &       -0.535    &       -0.040     \\\\\n",
       "                        & \\textbf{coef} & \\textbf{std err} & \\textbf{z} & \\textbf{P$> |$z$|$} & \\textbf{[0.025} & \\textbf{0.975]}  \\\\\n",
       "\\midrule\n",
       "\\textbf{intercept}      &      23.4022  &        9.193     &     2.546  &         0.011        &        5.384    &       41.421     \\\\\n",
       "\\textbf{L1.Money}       &       0.1865  &        0.093     &     2.004  &         0.045        &        0.004    &        0.369     \\\\\n",
       "\\textbf{L1.Spending}    &       1.8181  &        0.084     &    21.680  &         0.000        &        1.654    &        1.982     \\\\\n",
       "\\textbf{L2.Money}       &      -0.1814  &        0.092     &    -1.968  &         0.049        &       -0.362    &       -0.001     \\\\\n",
       "\\textbf{L2.Spending}    &      -0.8252  &        0.083     &    -9.990  &         0.000        &       -0.987    &       -0.663     \\\\\n",
       "\\textbf{L1.e(Money)}    &      -0.1149  &        0.121     &    -0.951  &         0.341        &       -0.352    &        0.122     \\\\\n",
       "\\textbf{L1.e(Spending)} &      -0.5897  &        0.107     &    -5.497  &         0.000        &       -0.800    &       -0.379     \\\\\n",
       "                                 & \\textbf{coef} & \\textbf{std err} & \\textbf{z} & \\textbf{P$> |$z$|$} & \\textbf{[0.025} & \\textbf{0.975]}  \\\\\n",
       "\\midrule\n",
       "\\textbf{sqrt.var.Money}          &      28.9323  &        1.092     &    26.501  &         0.000        &       26.793    &       31.072     \\\\\n",
       "\\textbf{sqrt.cov.Money.Spending} &      -1.0525  &        2.725     &    -0.386  &         0.699        &       -6.394    &        4.288     \\\\\n",
       "\\textbf{sqrt.var.Spending}       &      36.7263  &        1.549     &    23.703  &         0.000        &       33.689    &       39.763     \\\\\n",
       "\\bottomrule\n",
       "\\end{tabular}\n",
       "%\\caption{Statespace Model Results}\n",
       "\\end{center}\n",
       "\n",
       "Warnings: \\newline\n",
       " [1] Covariance matrix calculated using the outer product of gradients (complex-step)."
      ],
      "text/plain": [
       "<class 'statsmodels.iolib.summary.Summary'>\n",
       "\"\"\"\n",
       "                             Statespace Model Results                            \n",
       "=================================================================================\n",
       "Dep. Variable:     ['Money', 'Spending']   No. Observations:                  252\n",
       "Model:                        VARMA(2,1)   Log Likelihood               -2448.172\n",
       "                             + intercept   AIC                           4930.345\n",
       "Date:                   Sat, 18 Nov 2023   BIC                           4990.345\n",
       "Time:                           00:33:36   HQIC                          4954.488\n",
       "Sample:                                0                                         \n",
       "                                   - 252                                         \n",
       "Covariance Type:                     opg                                         \n",
       "===================================================================================\n",
       "Ljung-Box (L1) (Q):             0.39, 7.95   Jarque-Bera (JB):       499.27, 140.05\n",
       "Prob(Q):                        0.53, 0.00   Prob(JB):                   0.00, 0.00\n",
       "Heteroskedasticity (H):         3.12, 0.85   Skew:                       1.26, 0.10\n",
       "Prob(H) (two-sided):            0.00, 0.45   Kurtosis:                   9.42, 6.65\n",
       "                            Results for equation Money                            \n",
       "==================================================================================\n",
       "                     coef    std err          z      P>|z|      [0.025      0.975]\n",
       "----------------------------------------------------------------------------------\n",
       "intercept        -18.9711     10.191     -1.862      0.063     -38.946       1.003\n",
       "L1.Money           1.8122      0.108     16.808      0.000       1.601       2.023\n",
       "L1.Spending        0.1638      0.092      1.774      0.076      -0.017       0.345\n",
       "L2.Money          -0.8169      0.107     -7.654      0.000      -1.026      -0.608\n",
       "L2.Spending       -0.1575      0.091     -1.739      0.082      -0.335       0.020\n",
       "L1.e(Money)       -0.6697      0.120     -5.580      0.000      -0.905      -0.434\n",
       "L1.e(Spending)    -0.2879      0.126     -2.280      0.023      -0.535      -0.040\n",
       "                          Results for equation Spending                           \n",
       "==================================================================================\n",
       "                     coef    std err          z      P>|z|      [0.025      0.975]\n",
       "----------------------------------------------------------------------------------\n",
       "intercept         23.4022      9.193      2.546      0.011       5.384      41.421\n",
       "L1.Money           0.1865      0.093      2.004      0.045       0.004       0.369\n",
       "L1.Spending        1.8181      0.084     21.680      0.000       1.654       1.982\n",
       "L2.Money          -0.1814      0.092     -1.968      0.049      -0.362      -0.001\n",
       "L2.Spending       -0.8252      0.083     -9.990      0.000      -0.987      -0.663\n",
       "L1.e(Money)       -0.1149      0.121     -0.951      0.341      -0.352       0.122\n",
       "L1.e(Spending)    -0.5897      0.107     -5.497      0.000      -0.800      -0.379\n",
       "                                  Error covariance matrix                                  \n",
       "===========================================================================================\n",
       "                              coef    std err          z      P>|z|      [0.025      0.975]\n",
       "-------------------------------------------------------------------------------------------\n",
       "sqrt.var.Money             28.9323      1.092     26.501      0.000      26.793      31.072\n",
       "sqrt.cov.Money.Spending    -1.0525      2.725     -0.386      0.699      -6.394       4.288\n",
       "sqrt.var.Spending          36.7263      1.549     23.703      0.000      33.689      39.763\n",
       "===========================================================================================\n",
       "\n",
       "Warnings:\n",
       "[1] Covariance matrix calculated using the outer product of gradients (complex-step).\n",
       "\"\"\""
      ]
     },
     "execution_count": 19,
     "metadata": {},
     "output_type": "execute_result"
    }
   ],
   "source": [
    "results.summary()"
   ]
  },
  {
   "cell_type": "code",
   "execution_count": 29,
   "id": "f4583d22",
   "metadata": {},
   "outputs": [],
   "source": [
    "# future prediction\n",
    "\n",
    "forecast_steps = 5\n",
    "forecast = results.forecast(steps = forecast_steps)"
   ]
  },
  {
   "cell_type": "code",
   "execution_count": 30,
   "id": "348dcfb0",
   "metadata": {},
   "outputs": [
    {
     "data": {
      "text/html": [
       "<div>\n",
       "<style scoped>\n",
       "    .dataframe tbody tr th:only-of-type {\n",
       "        vertical-align: middle;\n",
       "    }\n",
       "\n",
       "    .dataframe tbody tr th {\n",
       "        vertical-align: top;\n",
       "    }\n",
       "\n",
       "    .dataframe thead th {\n",
       "        text-align: right;\n",
       "    }\n",
       "</style>\n",
       "<table border=\"1\" class=\"dataframe\">\n",
       "  <thead>\n",
       "    <tr style=\"text-align: right;\">\n",
       "      <th></th>\n",
       "      <th>Money</th>\n",
       "      <th>Spending</th>\n",
       "    </tr>\n",
       "  </thead>\n",
       "  <tbody>\n",
       "    <tr>\n",
       "      <th>252</th>\n",
       "      <td>12386.260713</td>\n",
       "      <td>12501.451913</td>\n",
       "    </tr>\n",
       "    <tr>\n",
       "      <th>253</th>\n",
       "      <td>12433.535334</td>\n",
       "      <td>12535.368756</td>\n",
       "    </tr>\n",
       "    <tr>\n",
       "      <th>254</th>\n",
       "      <td>12478.524917</td>\n",
       "      <td>12570.019430</td>\n",
       "    </tr>\n",
       "    <tr>\n",
       "      <th>255</th>\n",
       "      <td>12521.768400</td>\n",
       "      <td>12604.846278</td>\n",
       "    </tr>\n",
       "    <tr>\n",
       "      <th>256</th>\n",
       "      <td>12563.627596</td>\n",
       "      <td>12639.476537</td>\n",
       "    </tr>\n",
       "  </tbody>\n",
       "</table>\n",
       "</div>"
      ],
      "text/plain": [
       "            Money      Spending\n",
       "252  12386.260713  12501.451913\n",
       "253  12433.535334  12535.368756\n",
       "254  12478.524917  12570.019430\n",
       "255  12521.768400  12604.846278\n",
       "256  12563.627596  12639.476537"
      ]
     },
     "execution_count": 30,
     "metadata": {},
     "output_type": "execute_result"
    }
   ],
   "source": [
    "forecast"
   ]
  },
  {
   "cell_type": "code",
   "execution_count": 31,
   "id": "7f7209c3",
   "metadata": {},
   "outputs": [
    {
     "data": {
      "image/png": "[encoded data removed]",
      "text/plain": [
       "<Figure size 432x288 with 1 Axes>"
      ]
     },
     "execution_count": 31,
     "metadata": {},
     "output_type": "execute_result"
    },
    {
     "data": {
      "image/png": "[encoded data removed]",
      "text/plain": [
       "<Figure size 432x288 with 1 Axes>"
      ]
     },
     "metadata": {
      "needs_background": "light"
     },
     "output_type": "display_data"
    }
   ],
   "source": [
    "from statsmodels.graphics.tsaplots import plot_predict\n",
    "plot_predict(results)"
   ]
  },
  {
   "cell_type": "code",
   "execution_count": null,
   "id": "f401e9f0",
   "metadata": {},
   "outputs": [],
   "source": []
  }
 ],
 "metadata": {
  "kernelspec": {
   "display_name": "Python 3 (ipykernel)",
   "language": "python",
   "name": "python3"
  },
  "language_info": {
   "codemirror_mode": {
    "name": "ipython",
    "version": 3
   },
   "file_extension": ".py",
   "mimetype": "text/x-python",
   "name": "python",
   "nbconvert_exporter": "python",
   "pygments_lexer": "ipython3",
   "version": "3.9.12"
  }
 },
 "nbformat": 4,
 "nbformat_minor": 5
}
